{
 "cells": [
  {
   "cell_type": "markdown",
   "id": "bfa049ad",
   "metadata": {},
   "source": [
    "# Term Project"
   ]
  },
  {
   "cell_type": "markdown",
   "id": "96c3ea89",
   "metadata": {},
   "source": [
    "## Data Selection and EDA"
   ]
  },
  {
   "cell_type": "markdown",
   "id": "2d4c48b0",
   "metadata": {},
   "source": [
    "### Reading the cookie training data"
   ]
  },
  {
   "cell_type": "code",
   "execution_count": 1,
   "id": "5646b8a6",
   "metadata": {},
   "outputs": [],
   "source": [
    "# importing libraries\n",
    "import pandas as pd # data processing, CSV file I/O (e.g. pd.read_csv)\n",
    "import seaborn as sns\n",
    "import matplotlib.pyplot as plt\n"
   ]
  },
  {
   "cell_type": "code",
   "execution_count": 2,
   "id": "dd6e3331",
   "metadata": {},
   "outputs": [
    {
     "data": {
      "text/html": [
       "<div>\n",
       "<style scoped>\n",
       "    .dataframe tbody tr th:only-of-type {\n",
       "        vertical-align: middle;\n",
       "    }\n",
       "\n",
       "    .dataframe tbody tr th {\n",
       "        vertical-align: top;\n",
       "    }\n",
       "\n",
       "    .dataframe thead th {\n",
       "        text-align: right;\n",
       "    }\n",
       "</style>\n",
       "<table border=\"1\" class=\"dataframe\">\n",
       "  <thead>\n",
       "    <tr style=\"text-align: right;\">\n",
       "      <th></th>\n",
       "      <th>Cookie Name</th>\n",
       "      <th>Cookie ID</th>\n",
       "      <th>Source</th>\n",
       "      <th>Lifespan</th>\n",
       "      <th>Hostname</th>\n",
       "      <th>Category</th>\n",
       "      <th>CategoryID</th>\n",
       "      <th>C_Source</th>\n",
       "      <th>Description</th>\n",
       "      <th>Domain Category Overrides</th>\n",
       "      <th>Domains</th>\n",
       "    </tr>\n",
       "  </thead>\n",
       "  <tbody>\n",
       "    <tr>\n",
       "      <th>0</th>\n",
       "      <td>__utma</td>\n",
       "      <td>344997f4-0167-4bf9-9734-00189fe97218</td>\n",
       "      <td>SCAN</td>\n",
       "      <td>PERSISTENT</td>\n",
       "      <td>thinkgreenfromhome.com</td>\n",
       "      <td>Performance/Analytics Cookies</td>\n",
       "      <td>3</td>\n",
       "      <td>Google Analytics</td>\n",
       "      <td>Used to distinguish users and sessions. The c...</td>\n",
       "      <td>0</td>\n",
       "      <td>1</td>\n",
       "    </tr>\n",
       "    <tr>\n",
       "      <th>1</th>\n",
       "      <td>MYLTID</td>\n",
       "      <td>d0e47286-a459-46f5-9783-0071ea3c8963</td>\n",
       "      <td>SCAN</td>\n",
       "      <td>PERSISTENT</td>\n",
       "      <td>www.wmlamptracker.com</td>\n",
       "      <td>Essential Cookies</td>\n",
       "      <td>1</td>\n",
       "      <td>Lamptracker</td>\n",
       "      <td>LampTracker Application - Registered user acco...</td>\n",
       "      <td>0</td>\n",
       "      <td>1</td>\n",
       "    </tr>\n",
       "    <tr>\n",
       "      <th>2</th>\n",
       "      <td>NID</td>\n",
       "      <td>e8ede2a5-fa91-4241-a5d7-016f8e61b1c1</td>\n",
       "      <td>SCAN</td>\n",
       "      <td>PERSISTENT</td>\n",
       "      <td>translate-pa.googleapis.com</td>\n",
       "      <td>Targeting Cookies</td>\n",
       "      <td>4</td>\n",
       "      <td>Google Ads</td>\n",
       "      <td>Security, Analytics, Functionality, Advertising</td>\n",
       "      <td>0</td>\n",
       "      <td>2</td>\n",
       "    </tr>\n",
       "    <tr>\n",
       "      <th>3</th>\n",
       "      <td>OptanonAlertBoxClosed</td>\n",
       "      <td>018df5f5-a8b0-755e-bdee-022ff8e7c817</td>\n",
       "      <td>MANUAL</td>\n",
       "      <td>PERSISTENT</td>\n",
       "      <td>.store.wm.com</td>\n",
       "      <td>Essential Cookies</td>\n",
       "      <td>1</td>\n",
       "      <td>OneTrust</td>\n",
       "      <td>This cookie is set by the cookie compliance s...</td>\n",
       "      <td>0</td>\n",
       "      <td>1</td>\n",
       "    </tr>\n",
       "    <tr>\n",
       "      <th>4</th>\n",
       "      <td>pxrc</td>\n",
       "      <td>3b0dbcb7-8b6d-46ea-9172-02d06a0a4071</td>\n",
       "      <td>SCAN</td>\n",
       "      <td>PERSISTENT</td>\n",
       "      <td>pippio.com</td>\n",
       "      <td>Targeting Cookies</td>\n",
       "      <td>4</td>\n",
       "      <td>Liveramp</td>\n",
       "      <td>Used to analyse how user interacts with the s...</td>\n",
       "      <td>0</td>\n",
       "      <td>0</td>\n",
       "    </tr>\n",
       "  </tbody>\n",
       "</table>\n",
       "</div>"
      ],
      "text/plain": [
       "             Cookie Name                             Cookie ID  Source  \\\n",
       "0                 __utma  344997f4-0167-4bf9-9734-00189fe97218    SCAN   \n",
       "1                 MYLTID  d0e47286-a459-46f5-9783-0071ea3c8963    SCAN   \n",
       "2                    NID  e8ede2a5-fa91-4241-a5d7-016f8e61b1c1    SCAN   \n",
       "3  OptanonAlertBoxClosed  018df5f5-a8b0-755e-bdee-022ff8e7c817  MANUAL   \n",
       "4                   pxrc  3b0dbcb7-8b6d-46ea-9172-02d06a0a4071    SCAN   \n",
       "\n",
       "     Lifespan                     Hostname                       Category  \\\n",
       "0  PERSISTENT       thinkgreenfromhome.com  Performance/Analytics Cookies   \n",
       "1  PERSISTENT        www.wmlamptracker.com              Essential Cookies   \n",
       "2  PERSISTENT  translate-pa.googleapis.com              Targeting Cookies   \n",
       "3  PERSISTENT                .store.wm.com              Essential Cookies   \n",
       "4  PERSISTENT                   pippio.com              Targeting Cookies   \n",
       "\n",
       "   CategoryID           C_Source  \\\n",
       "0           3  Google Analytics    \n",
       "1           1        Lamptracker   \n",
       "2           4        Google Ads    \n",
       "3           1          OneTrust    \n",
       "4           4           Liveramp   \n",
       "\n",
       "                                         Description  \\\n",
       "0   Used to distinguish users and sessions. The c...   \n",
       "1  LampTracker Application - Registered user acco...   \n",
       "2   Security, Analytics, Functionality, Advertising    \n",
       "3   This cookie is set by the cookie compliance s...   \n",
       "4   Used to analyse how user interacts with the s...   \n",
       "\n",
       "   Domain Category Overrides  Domains  \n",
       "0                          0        1  \n",
       "1                          0        1  \n",
       "2                          0        2  \n",
       "3                          0        1  \n",
       "4                          0        0  "
      ]
     },
     "execution_count": 2,
     "metadata": {},
     "output_type": "execute_result"
    }
   ],
   "source": [
    "# reading the data\n",
    "file_path = 'C:/Users/ivan2/gitLocal/DSC630-SPRING2024/Cookies Results_2024-04-16 00_21_38.347_All_Domains (1).xlsx'\n",
    "\n",
    "\n",
    "df_ck = pd.read_excel(file_path)\n",
    "df_ck.head(5)"
   ]
  },
  {
   "cell_type": "code",
   "execution_count": 3,
   "id": "865743e4",
   "metadata": {},
   "outputs": [
    {
     "data": {
      "text/plain": [
       "(188, 11)"
      ]
     },
     "execution_count": 3,
     "metadata": {},
     "output_type": "execute_result"
    }
   ],
   "source": [
    "df_ck.shape"
   ]
  },
  {
   "cell_type": "code",
   "execution_count": 4,
   "id": "4b2dc902",
   "metadata": {},
   "outputs": [
    {
     "name": "stdout",
     "output_type": "stream",
     "text": [
      "Cookie Name                    object\n",
      "Cookie ID                      object\n",
      "Source                         object\n",
      "Lifespan                       object\n",
      "Hostname                       object\n",
      "Category                     category\n",
      "CategoryID                   category\n",
      "C_Source                       object\n",
      "Description                    object\n",
      "Domain Category Overrides       int64\n",
      "Domains                         int64\n",
      "dtype: object\n"
     ]
    }
   ],
   "source": [
    "df_ck['CategoryID'] = df_ck['CategoryID'].astype('category')\n",
    "df_ck['Category'] = df_ck['Category'].astype('category')\n",
    "print(df_ck.dtypes)"
   ]
  },
  {
   "cell_type": "markdown",
   "id": "fb2799bc",
   "metadata": {},
   "source": [
    "### Conducting initial EDA into the cookie training data"
   ]
  },
  {
   "cell_type": "markdown",
   "id": "4c2b4a1c",
   "metadata": {},
   "source": [
    "**1. Plotting the counts of the cookie category variable**"
   ]
  },
  {
   "cell_type": "code",
   "execution_count": 5,
   "id": "01319560",
   "metadata": {},
   "outputs": [
    {
     "data": {
      "image/png": "[encoded data removed]",
      "text/plain": [
       "<Figure size 1000x600 with 1 Axes>"
      ]
     },
     "metadata": {},
     "output_type": "display_data"
    }
   ],
   "source": [
    "# calculate counts and sort categories by count\n",
    "category_order = df_ck['Category'].value_counts().index\n",
    "\n",
    "# create the plot\n",
    "plt.figure(figsize=(10, 6))\n",
    "ax = sns.countplot(x='Category', data=df_ck, order=category_order)\n",
    "plt.title('Count of Each Category')\n",
    "plt.xlabel('Category')\n",
    "plt.ylabel('Count')\n",
    "plt.xticks(rotation=25)  # rotating labels\n",
    "plt.show()"
   ]
  },
  {
   "cell_type": "markdown",
   "id": "e743a073",
   "metadata": {},
   "source": [
    "**2. Displaying a few cookie descriptions and assigned categories**"
   ]
  },
  {
   "cell_type": "code",
   "execution_count": 6,
   "id": "367c48b3",
   "metadata": {},
   "outputs": [],
   "source": [
    "def show_descriptions(df_ck, n = 1, RANDOM_STATE = 44):\n",
    "    temp_df = df_ck.sample(n, random_state = RANDOM_STATE)\n",
    "    indices = temp_df.index.tolist()\n",
    "    for i in indices:\n",
    "        print()\n",
    "        print(\"Description:\\n\")\n",
    "        print(f\"Category: {temp_df.loc[i, 'Category']} \\n\")\n",
    "        print(temp_df.loc[i, 'Description'])\n",
    "        print()\n",
    "        print('==' * 10)"
   ]
  },
  {
   "cell_type": "code",
   "execution_count": 7,
   "id": "f2c9d9f7",
   "metadata": {},
   "outputs": [
    {
     "name": "stdout",
     "output_type": "stream",
     "text": [
      "\n",
      "Description:\n",
      "\n",
      "Category: Performance/Analytics Cookies \n",
      "\n",
      "  This represents a series of cookies which monitor site performance to ensure appropriate load management. \n",
      "\n",
      "====================\n",
      "\n",
      "Description:\n",
      "\n",
      "Category: Performance/Analytics Cookies \n",
      "\n",
      " Used to distinguish users for web analytics purposes\n",
      "\n",
      "====================\n"
     ]
    }
   ],
   "source": [
    "show_descriptions(df_ck, 2)"
   ]
  },
  {
   "cell_type": "markdown",
   "id": "76720375",
   "metadata": {},
   "source": [
    "**3. Plotting distribution of description length**"
   ]
  },
  {
   "cell_type": "code",
   "execution_count": 8,
   "id": "eaeda8b0",
   "metadata": {},
   "outputs": [],
   "source": [
    "# establishing a copy of the dataframe\n",
    "dfV2 = df_ck.copy()"
   ]
  },
  {
   "cell_type": "code",
   "execution_count": 9,
   "id": "78f78dd6",
   "metadata": {},
   "outputs": [
    {
     "data": {
      "text/html": [
       "<div>\n",
       "<style scoped>\n",
       "    .dataframe tbody tr th:only-of-type {\n",
       "        vertical-align: middle;\n",
       "    }\n",
       "\n",
       "    .dataframe tbody tr th {\n",
       "        vertical-align: top;\n",
       "    }\n",
       "\n",
       "    .dataframe thead th {\n",
       "        text-align: right;\n",
       "    }\n",
       "</style>\n",
       "<table border=\"1\" class=\"dataframe\">\n",
       "  <thead>\n",
       "    <tr style=\"text-align: right;\">\n",
       "      <th></th>\n",
       "      <th>Description</th>\n",
       "      <th>desc_len</th>\n",
       "    </tr>\n",
       "  </thead>\n",
       "  <tbody>\n",
       "    <tr>\n",
       "      <th>0</th>\n",
       "      <td>Used to distinguish users and sessions. The c...</td>\n",
       "      <td>205</td>\n",
       "    </tr>\n",
       "    <tr>\n",
       "      <th>1</th>\n",
       "      <td>LampTracker Application - Registered user acco...</td>\n",
       "      <td>52</td>\n",
       "    </tr>\n",
       "    <tr>\n",
       "      <th>2</th>\n",
       "      <td>Security, Analytics, Functionality, Advertising</td>\n",
       "      <td>49</td>\n",
       "    </tr>\n",
       "    <tr>\n",
       "      <th>3</th>\n",
       "      <td>This cookie is set by the cookie compliance s...</td>\n",
       "      <td>533</td>\n",
       "    </tr>\n",
       "    <tr>\n",
       "      <th>4</th>\n",
       "      <td>Used to analyse how user interacts with the s...</td>\n",
       "      <td>105</td>\n",
       "    </tr>\n",
       "  </tbody>\n",
       "</table>\n",
       "</div>"
      ],
      "text/plain": [
       "                                         Description  desc_len\n",
       "0   Used to distinguish users and sessions. The c...       205\n",
       "1  LampTracker Application - Registered user acco...        52\n",
       "2   Security, Analytics, Functionality, Advertising         49\n",
       "3   This cookie is set by the cookie compliance s...       533\n",
       "4   Used to analyse how user interacts with the s...       105"
      ]
     },
     "execution_count": 9,
     "metadata": {},
     "output_type": "execute_result"
    }
   ],
   "source": [
    "# counting the length of each description\n",
    "dfV2['desc_len'] = dfV2['Description'].map(len)\n",
    "# check\n",
    "dfV2[['Description', 'desc_len']].head()"
   ]
  },
  {
   "cell_type": "code",
   "execution_count": 10,
   "id": "c6b8ff8a",
   "metadata": {},
   "outputs": [],
   "source": [
    "# function for plotting distribution\n",
    "def plot_distribution(df, colname, title, bin_size=None):\n",
    "    sns.displot(data = dfV2, x = colname, bins=bin_size)\n",
    "    plt.xlabel(title)\n",
    "    plt.ylabel(\"Frequency\")\n",
    "    plt.title(\"Distribution of {}\".format(title))\n",
    "    plt.show();"
   ]
  },
  {
   "cell_type": "code",
   "execution_count": 11,
   "id": "5c6f02e1",
   "metadata": {},
   "outputs": [
    {
     "data": {
      "image/png": "[encoded data removed]",
      "text/plain": [
       "<Figure size 500x500 with 1 Axes>"
      ]
     },
     "metadata": {},
     "output_type": "display_data"
    }
   ],
   "source": [
    "plot_distribution(dfV2, 'desc_len', 'Description Length', bin_size=20)"
   ]
  },
  {
   "cell_type": "markdown",
   "id": "14526485",
   "metadata": {},
   "source": [
    "The distribution is unimodal. Most of the descriptions are relatively short, with a few much longer descriptions. The data does not follow a normal distribution and is skewed to the right. This is normal for text data since most entries will be concise."
   ]
  },
  {
   "cell_type": "markdown",
   "id": "6662203c",
   "metadata": {},
   "source": [
    "**4. Plotting distribution of description length per category**"
   ]
  },
  {
   "cell_type": "code",
   "execution_count": 12,
   "id": "afd1ff69",
   "metadata": {},
   "outputs": [],
   "source": [
    "def show_dist_per_cat(df, colname, title):\n",
    "    sns.boxplot(data = dfV2, y = colname, x = 'Category')\n",
    "    plt.ylabel(\"Length\")\n",
    "    plt.xlabel(\"Category\")\n",
    "    plt.title(f\"{title} Distribution per Sentiment\")\n",
    "    plt.xticks(rotation=25)  # rotating labels\n",
    "    plt.show()\n",
    "    \n",
    "    print()\n",
    "    print(dfV2.groupby(['Category'])[colname].describe())"
   ]
  },
  {
   "cell_type": "code",
   "execution_count": 13,
   "id": "8c47ccde",
   "metadata": {},
   "outputs": [
    {
     "data": {
      "image/png": "[encoded data removed]",
      "text/plain": [
       "<Figure size 640x480 with 1 Axes>"
      ]
     },
     "metadata": {},
     "output_type": "display_data"
    },
    {
     "name": "stdout",
     "output_type": "stream",
     "text": [
      "\n",
      "                               count        mean         std    min    25%  \\\n",
      "Category                                                                     \n",
      "Essential Cookies              112.0  242.008929  199.756360   24.0   61.0   \n",
      "Functional Cookies               9.0  152.111111   41.416918  117.0  128.0   \n",
      "Performance/Analytics Cookies   44.0  119.522727   93.632008   29.0   60.0   \n",
      "Targeting Cookies               23.0  148.739130   84.089896   14.0  105.0   \n",
      "\n",
      "                                 50%     75%    max  \n",
      "Category                                             \n",
      "Essential Cookies              156.0  533.00  553.0  \n",
      "Functional Cookies             128.0  173.00  240.0  \n",
      "Performance/Analytics Cookies   78.0  150.25  423.0  \n",
      "Targeting Cookies              146.0  203.00  313.0  \n"
     ]
    }
   ],
   "source": [
    "show_dist_per_cat(dfV2, 'desc_len', \"Description Length\")"
   ]
  },
  {
   "cell_type": "markdown",
   "id": "9baeedb5",
   "metadata": {},
   "source": [
    "**5. Plotting the counts of the cookie source variable**"
   ]
  },
  {
   "cell_type": "code",
   "execution_count": 14,
   "id": "cb152afa",
   "metadata": {},
   "outputs": [],
   "source": [
    "# sorting the value counts\n",
    "sorted_source_counts = dfV2['C_Source'].value_counts().sort_values(ascending=False)"
   ]
  },
  {
   "cell_type": "code",
   "execution_count": 15,
   "id": "7cc25474",
   "metadata": {},
   "outputs": [
    {
     "data": {
      "image/png": "[encoded data removed]",
      "text/plain": [
       "<Figure size 1000x600 with 1 Axes>"
      ]
     },
     "metadata": {},
     "output_type": "display_data"
    }
   ],
   "source": [
    "# plotting the counts of the 'Source' column\n",
    "plt.figure(figsize=(10, 6))\n",
    "ax = sns.countplot(x='C_Source', data=dfV2, order=sorted_source_counts.index)\n",
    "plt.title('Count Sources')\n",
    "plt.xlabel('Sources')\n",
    "plt.ylabel('Count')\n",
    "\n",
    "# rotate x-axis labels to vertical\n",
    "ax.set_xticklabels(ax.get_xticklabels(), rotation=90)\n",
    "\n",
    "plt.show()"
   ]
  },
  {
   "cell_type": "markdown",
   "id": "a77a10f8",
   "metadata": {},
   "source": [
    "**EDA Summary**"
   ]
  },
  {
   "cell_type": "markdown",
   "id": "e3fd7e8d",
   "metadata": {},
   "source": [
    "In short, the training data consists of a high volume of Essential Cookies and a low volume of Targeting and Functional Cookies. I will have to be careful when splitting the data into training and test sets to ensure that the low-volume cookies are adequately represented in each set.\n",
    "\n",
    "The distribution of description length is right skewed but bimodal. Right skewed distributions  can be normal for text-based data, however I did not expect to see a large distribution of high description length cookies. \n",
    "\n",
    "Essential cookies have the highest average description length at 242 with a high std.dev, which explains the bimodal distribution since Essential cookies make up the majority of cookies. The remaining cookie categories average about an 140 description length. \n",
    "\n",
    "The sources with the highest cookie counts are from our secutiy platfrom OneTrust and our web analytics platforms. This is expected since those are first-party cookies. Ultimately, the exploratory data analysis gives me a good understanding of the data and leads me down a path for my next steps."
   ]
  },
  {
   "cell_type": "markdown",
   "id": "1c89e167",
   "metadata": {},
   "source": [
    "## Data Preparation"
   ]
  },
  {
   "cell_type": "markdown",
   "id": "1fb728a0",
   "metadata": {},
   "source": [
    "### Data Preperation / Processing"
   ]
  },
  {
   "cell_type": "markdown",
   "id": "8d4ff020",
   "metadata": {},
   "source": [
    "**Dropping Features**"
   ]
  },
  {
   "cell_type": "markdown",
   "id": "c692ef1a",
   "metadata": {},
   "source": [
    "I'll be dropping columns that do not add any predictive value to the model. The features that will be dropped contain contextual data to the nature of how the datapoints were acquired. This data is not relevant for our purposes since it is cookie agnostic and does not affect cookie description or classification.\n",
    "\n",
    "I am also dropping identifiers since they do not add any predictive value."
   ]
  },
  {
   "cell_type": "code",
   "execution_count": 16,
   "id": "07f27acd",
   "metadata": {},
   "outputs": [
    {
     "data": {
      "text/html": [
       "<div>\n",
       "<style scoped>\n",
       "    .dataframe tbody tr th:only-of-type {\n",
       "        vertical-align: middle;\n",
       "    }\n",
       "\n",
       "    .dataframe tbody tr th {\n",
       "        vertical-align: top;\n",
       "    }\n",
       "\n",
       "    .dataframe thead th {\n",
       "        text-align: right;\n",
       "    }\n",
       "</style>\n",
       "<table border=\"1\" class=\"dataframe\">\n",
       "  <thead>\n",
       "    <tr style=\"text-align: right;\">\n",
       "      <th></th>\n",
       "      <th>Cookie Name</th>\n",
       "      <th>Cookie ID</th>\n",
       "      <th>Source</th>\n",
       "      <th>Lifespan</th>\n",
       "      <th>Hostname</th>\n",
       "      <th>Category</th>\n",
       "      <th>CategoryID</th>\n",
       "      <th>C_Source</th>\n",
       "      <th>Description</th>\n",
       "      <th>Domain Category Overrides</th>\n",
       "      <th>Domains</th>\n",
       "    </tr>\n",
       "  </thead>\n",
       "  <tbody>\n",
       "    <tr>\n",
       "      <th>0</th>\n",
       "      <td>__utma</td>\n",
       "      <td>344997f4-0167-4bf9-9734-00189fe97218</td>\n",
       "      <td>SCAN</td>\n",
       "      <td>PERSISTENT</td>\n",
       "      <td>thinkgreenfromhome.com</td>\n",
       "      <td>Performance/Analytics Cookies</td>\n",
       "      <td>3</td>\n",
       "      <td>Google Analytics</td>\n",
       "      <td>Used to distinguish users and sessions. The c...</td>\n",
       "      <td>0</td>\n",
       "      <td>1</td>\n",
       "    </tr>\n",
       "    <tr>\n",
       "      <th>1</th>\n",
       "      <td>MYLTID</td>\n",
       "      <td>d0e47286-a459-46f5-9783-0071ea3c8963</td>\n",
       "      <td>SCAN</td>\n",
       "      <td>PERSISTENT</td>\n",
       "      <td>www.wmlamptracker.com</td>\n",
       "      <td>Essential Cookies</td>\n",
       "      <td>1</td>\n",
       "      <td>Lamptracker</td>\n",
       "      <td>LampTracker Application - Registered user acco...</td>\n",
       "      <td>0</td>\n",
       "      <td>1</td>\n",
       "    </tr>\n",
       "    <tr>\n",
       "      <th>2</th>\n",
       "      <td>NID</td>\n",
       "      <td>e8ede2a5-fa91-4241-a5d7-016f8e61b1c1</td>\n",
       "      <td>SCAN</td>\n",
       "      <td>PERSISTENT</td>\n",
       "      <td>translate-pa.googleapis.com</td>\n",
       "      <td>Targeting Cookies</td>\n",
       "      <td>4</td>\n",
       "      <td>Google Ads</td>\n",
       "      <td>Security, Analytics, Functionality, Advertising</td>\n",
       "      <td>0</td>\n",
       "      <td>2</td>\n",
       "    </tr>\n",
       "    <tr>\n",
       "      <th>3</th>\n",
       "      <td>OptanonAlertBoxClosed</td>\n",
       "      <td>018df5f5-a8b0-755e-bdee-022ff8e7c817</td>\n",
       "      <td>MANUAL</td>\n",
       "      <td>PERSISTENT</td>\n",
       "      <td>.store.wm.com</td>\n",
       "      <td>Essential Cookies</td>\n",
       "      <td>1</td>\n",
       "      <td>OneTrust</td>\n",
       "      <td>This cookie is set by the cookie compliance s...</td>\n",
       "      <td>0</td>\n",
       "      <td>1</td>\n",
       "    </tr>\n",
       "    <tr>\n",
       "      <th>4</th>\n",
       "      <td>pxrc</td>\n",
       "      <td>3b0dbcb7-8b6d-46ea-9172-02d06a0a4071</td>\n",
       "      <td>SCAN</td>\n",
       "      <td>PERSISTENT</td>\n",
       "      <td>pippio.com</td>\n",
       "      <td>Targeting Cookies</td>\n",
       "      <td>4</td>\n",
       "      <td>Liveramp</td>\n",
       "      <td>Used to analyse how user interacts with the s...</td>\n",
       "      <td>0</td>\n",
       "      <td>0</td>\n",
       "    </tr>\n",
       "  </tbody>\n",
       "</table>\n",
       "</div>"
      ],
      "text/plain": [
       "             Cookie Name                             Cookie ID  Source  \\\n",
       "0                 __utma  344997f4-0167-4bf9-9734-00189fe97218    SCAN   \n",
       "1                 MYLTID  d0e47286-a459-46f5-9783-0071ea3c8963    SCAN   \n",
       "2                    NID  e8ede2a5-fa91-4241-a5d7-016f8e61b1c1    SCAN   \n",
       "3  OptanonAlertBoxClosed  018df5f5-a8b0-755e-bdee-022ff8e7c817  MANUAL   \n",
       "4                   pxrc  3b0dbcb7-8b6d-46ea-9172-02d06a0a4071    SCAN   \n",
       "\n",
       "     Lifespan                     Hostname                       Category  \\\n",
       "0  PERSISTENT       thinkgreenfromhome.com  Performance/Analytics Cookies   \n",
       "1  PERSISTENT        www.wmlamptracker.com              Essential Cookies   \n",
       "2  PERSISTENT  translate-pa.googleapis.com              Targeting Cookies   \n",
       "3  PERSISTENT                .store.wm.com              Essential Cookies   \n",
       "4  PERSISTENT                   pippio.com              Targeting Cookies   \n",
       "\n",
       "  CategoryID           C_Source  \\\n",
       "0          3  Google Analytics    \n",
       "1          1        Lamptracker   \n",
       "2          4        Google Ads    \n",
       "3          1          OneTrust    \n",
       "4          4           Liveramp   \n",
       "\n",
       "                                         Description  \\\n",
       "0   Used to distinguish users and sessions. The c...   \n",
       "1  LampTracker Application - Registered user acco...   \n",
       "2   Security, Analytics, Functionality, Advertising    \n",
       "3   This cookie is set by the cookie compliance s...   \n",
       "4   Used to analyse how user interacts with the s...   \n",
       "\n",
       "   Domain Category Overrides  Domains  \n",
       "0                          0        1  \n",
       "1                          0        1  \n",
       "2                          0        2  \n",
       "3                          0        1  \n",
       "4                          0        0  "
      ]
     },
     "execution_count": 16,
     "metadata": {},
     "output_type": "execute_result"
    }
   ],
   "source": [
    "# checking the current data frame\n",
    "df_ck.head(5)"
   ]
  },
  {
   "cell_type": "code",
   "execution_count": 17,
   "id": "d937e7dd",
   "metadata": {},
   "outputs": [],
   "source": [
    "# dropping variables with no predictive value\n",
    "df_cookieV1 = df_ck.drop(['Cookie Name', 'Cookie ID', 'Source', 'Lifespan', 'Hostname', \n",
    "                          'Category', 'Domain Category Overrides', 'Domains'], axis=1)\n"
   ]
  },
  {
   "cell_type": "code",
   "execution_count": 18,
   "id": "552ee78d",
   "metadata": {},
   "outputs": [
    {
     "name": "stdout",
     "output_type": "stream",
     "text": [
      "CategoryID\n",
      "C_Source\n",
      "Description\n"
     ]
    }
   ],
   "source": [
    "# checking the column list\n",
    "for col in df_cookieV1:\n",
    "    print(col)"
   ]
  },
  {
   "cell_type": "markdown",
   "id": "53b35f4c",
   "metadata": {},
   "source": [
    "**Create Dummy Variables**"
   ]
  },
  {
   "cell_type": "markdown",
   "id": "bcc62326",
   "metadata": {},
   "source": [
    "I plan to use one other categorical feature that I feel might improve the logistic regression. This categorical columns will need to be encoded. I will use one-hot encoding for since it is a non-ordinal categorical feature."
   ]
  },
  {
   "cell_type": "code",
   "execution_count": 19,
   "id": "d7199e99",
   "metadata": {},
   "outputs": [
    {
     "data": {
      "text/html": [
       "<div>\n",
       "<style scoped>\n",
       "    .dataframe tbody tr th:only-of-type {\n",
       "        vertical-align: middle;\n",
       "    }\n",
       "\n",
       "    .dataframe tbody tr th {\n",
       "        vertical-align: top;\n",
       "    }\n",
       "\n",
       "    .dataframe thead th {\n",
       "        text-align: right;\n",
       "    }\n",
       "</style>\n",
       "<table border=\"1\" class=\"dataframe\">\n",
       "  <thead>\n",
       "    <tr style=\"text-align: right;\">\n",
       "      <th></th>\n",
       "      <th>CategoryID</th>\n",
       "      <th>C_Source</th>\n",
       "      <th>Description</th>\n",
       "    </tr>\n",
       "  </thead>\n",
       "  <tbody>\n",
       "    <tr>\n",
       "      <th>0</th>\n",
       "      <td>3</td>\n",
       "      <td>Google Analytics</td>\n",
       "      <td>Used to distinguish users and sessions. The c...</td>\n",
       "    </tr>\n",
       "    <tr>\n",
       "      <th>1</th>\n",
       "      <td>1</td>\n",
       "      <td>Lamptracker</td>\n",
       "      <td>LampTracker Application - Registered user acco...</td>\n",
       "    </tr>\n",
       "    <tr>\n",
       "      <th>2</th>\n",
       "      <td>4</td>\n",
       "      <td>Google Ads</td>\n",
       "      <td>Security, Analytics, Functionality, Advertising</td>\n",
       "    </tr>\n",
       "    <tr>\n",
       "      <th>3</th>\n",
       "      <td>1</td>\n",
       "      <td>OneTrust</td>\n",
       "      <td>This cookie is set by the cookie compliance s...</td>\n",
       "    </tr>\n",
       "    <tr>\n",
       "      <th>4</th>\n",
       "      <td>4</td>\n",
       "      <td>Liveramp</td>\n",
       "      <td>Used to analyse how user interacts with the s...</td>\n",
       "    </tr>\n",
       "  </tbody>\n",
       "</table>\n",
       "</div>"
      ],
      "text/plain": [
       "  CategoryID           C_Source  \\\n",
       "0          3  Google Analytics    \n",
       "1          1        Lamptracker   \n",
       "2          4        Google Ads    \n",
       "3          1          OneTrust    \n",
       "4          4           Liveramp   \n",
       "\n",
       "                                         Description  \n",
       "0   Used to distinguish users and sessions. The c...  \n",
       "1  LampTracker Application - Registered user acco...  \n",
       "2   Security, Analytics, Functionality, Advertising   \n",
       "3   This cookie is set by the cookie compliance s...  \n",
       "4   Used to analyse how user interacts with the s...  "
      ]
     },
     "execution_count": 19,
     "metadata": {},
     "output_type": "execute_result"
    }
   ],
   "source": [
    "df_cookieV1.head(5)"
   ]
  },
  {
   "cell_type": "code",
   "execution_count": 20,
   "id": "261a70dd",
   "metadata": {},
   "outputs": [],
   "source": [
    "# convert 'C_Source' into dummy variables\n",
    "source_dummies = pd.get_dummies(df_cookieV1['C_Source'])\n",
    "\n",
    "# join the dummy variables to new df\n",
    "df_cookieV2 = df_cookieV1.join(source_dummies)"
   ]
  },
  {
   "cell_type": "code",
   "execution_count": 21,
   "id": "d5e78e77",
   "metadata": {},
   "outputs": [],
   "source": [
    "# dropping the 'source' column\n",
    "df_cookieV2 = df_cookieV2.drop(['C_Source'], axis=1)"
   ]
  },
  {
   "cell_type": "code",
   "execution_count": 22,
   "id": "1b248384",
   "metadata": {},
   "outputs": [
    {
     "name": "stdout",
     "output_type": "stream",
     "text": [
      "CategoryID\n",
      "Description\n",
      "AddThis \n",
      "Adobe Advertising \n",
      "Adobe Analytics \n",
      "Adobe Audience Manager. \n",
      "Adobe Experience Cloud \n",
      "Adobe Experience Platform \n",
      "Adobe Target \n",
      "Algolia \n",
      "Amazon AWS \n",
      "AppDynamics \n",
      "Appdynamics \n",
      "Bagster\n",
      "Bing Ads \n",
      "Cloudflare \n",
      "Doubleclick (Google). \n",
      "F5 \n",
      "Facebook\n",
      "Google \n",
      "Google Ads \n",
      "Google Analytics\n",
      "Google Analytics \n",
      "Java \n",
      "Lamptracker\n",
      "Lijit Advertising Platform \n",
      "LinkedIn \n",
      "Linkedin\n",
      "Liveramp\n",
      "LogRocket \n",
      "Logrocket \n",
      "Microsoft \n",
      "Microsoft Advertising \n",
      "Microsoft Clarity \n",
      "Okta\n",
      "Okta \n",
      "OneTrust \n",
      "Optimizely \n",
      "Oracle \n",
      "PHP \n",
      "SalesForce \n",
      "ShareThis\n",
      "Source Adobe Analytics \n",
      "The Trade Desk\n",
      "Thinkgreemfromhome\n",
      "Unknown \n",
      "WM \n",
      "YouTube\n"
     ]
    }
   ],
   "source": [
    "# checking the column list\n",
    "for col in df_cookieV2:\n",
    "    print(col)"
   ]
  },
  {
   "cell_type": "code",
   "execution_count": 23,
   "id": "4f6b7df7",
   "metadata": {},
   "outputs": [
    {
     "data": {
      "text/html": [
       "<div>\n",
       "<style scoped>\n",
       "    .dataframe tbody tr th:only-of-type {\n",
       "        vertical-align: middle;\n",
       "    }\n",
       "\n",
       "    .dataframe tbody tr th {\n",
       "        vertical-align: top;\n",
       "    }\n",
       "\n",
       "    .dataframe thead th {\n",
       "        text-align: right;\n",
       "    }\n",
       "</style>\n",
       "<table border=\"1\" class=\"dataframe\">\n",
       "  <thead>\n",
       "    <tr style=\"text-align: right;\">\n",
       "      <th></th>\n",
       "      <th>CategoryID</th>\n",
       "      <th>Description</th>\n",
       "      <th>AddThis</th>\n",
       "      <th>Adobe Advertising</th>\n",
       "      <th>Adobe Analytics</th>\n",
       "      <th>Adobe Audience Manager.</th>\n",
       "      <th>Adobe Experience Cloud</th>\n",
       "      <th>Adobe Experience Platform</th>\n",
       "      <th>Adobe Target</th>\n",
       "      <th>Algolia</th>\n",
       "      <th>...</th>\n",
       "      <th>Oracle</th>\n",
       "      <th>PHP</th>\n",
       "      <th>SalesForce</th>\n",
       "      <th>ShareThis</th>\n",
       "      <th>Source Adobe Analytics</th>\n",
       "      <th>The Trade Desk</th>\n",
       "      <th>Thinkgreemfromhome</th>\n",
       "      <th>Unknown</th>\n",
       "      <th>WM</th>\n",
       "      <th>YouTube</th>\n",
       "    </tr>\n",
       "  </thead>\n",
       "  <tbody>\n",
       "    <tr>\n",
       "      <th>0</th>\n",
       "      <td>3</td>\n",
       "      <td>Used to distinguish users and sessions. The c...</td>\n",
       "      <td>0</td>\n",
       "      <td>0</td>\n",
       "      <td>0</td>\n",
       "      <td>0</td>\n",
       "      <td>0</td>\n",
       "      <td>0</td>\n",
       "      <td>0</td>\n",
       "      <td>0</td>\n",
       "      <td>...</td>\n",
       "      <td>0</td>\n",
       "      <td>0</td>\n",
       "      <td>0</td>\n",
       "      <td>0</td>\n",
       "      <td>0</td>\n",
       "      <td>0</td>\n",
       "      <td>0</td>\n",
       "      <td>0</td>\n",
       "      <td>0</td>\n",
       "      <td>0</td>\n",
       "    </tr>\n",
       "    <tr>\n",
       "      <th>1</th>\n",
       "      <td>1</td>\n",
       "      <td>LampTracker Application - Registered user acco...</td>\n",
       "      <td>0</td>\n",
       "      <td>0</td>\n",
       "      <td>0</td>\n",
       "      <td>0</td>\n",
       "      <td>0</td>\n",
       "      <td>0</td>\n",
       "      <td>0</td>\n",
       "      <td>0</td>\n",
       "      <td>...</td>\n",
       "      <td>0</td>\n",
       "      <td>0</td>\n",
       "      <td>0</td>\n",
       "      <td>0</td>\n",
       "      <td>0</td>\n",
       "      <td>0</td>\n",
       "      <td>0</td>\n",
       "      <td>0</td>\n",
       "      <td>0</td>\n",
       "      <td>0</td>\n",
       "    </tr>\n",
       "    <tr>\n",
       "      <th>2</th>\n",
       "      <td>4</td>\n",
       "      <td>Security, Analytics, Functionality, Advertising</td>\n",
       "      <td>0</td>\n",
       "      <td>0</td>\n",
       "      <td>0</td>\n",
       "      <td>0</td>\n",
       "      <td>0</td>\n",
       "      <td>0</td>\n",
       "      <td>0</td>\n",
       "      <td>0</td>\n",
       "      <td>...</td>\n",
       "      <td>0</td>\n",
       "      <td>0</td>\n",
       "      <td>0</td>\n",
       "      <td>0</td>\n",
       "      <td>0</td>\n",
       "      <td>0</td>\n",
       "      <td>0</td>\n",
       "      <td>0</td>\n",
       "      <td>0</td>\n",
       "      <td>0</td>\n",
       "    </tr>\n",
       "  </tbody>\n",
       "</table>\n",
       "<p>3 rows × 48 columns</p>\n",
       "</div>"
      ],
      "text/plain": [
       "  CategoryID                                        Description  AddThis   \\\n",
       "0          3   Used to distinguish users and sessions. The c...         0   \n",
       "1          1  LampTracker Application - Registered user acco...         0   \n",
       "2          4   Security, Analytics, Functionality, Advertising          0   \n",
       "\n",
       "   Adobe Advertising   Adobe Analytics   Adobe Audience Manager.   \\\n",
       "0                   0                 0                         0   \n",
       "1                   0                 0                         0   \n",
       "2                   0                 0                         0   \n",
       "\n",
       "   Adobe Experience Cloud   Adobe Experience Platform   Adobe Target   \\\n",
       "0                        0                           0              0   \n",
       "1                        0                           0              0   \n",
       "2                        0                           0              0   \n",
       "\n",
       "   Algolia   ...  Oracle   PHP   SalesForce   ShareThis  \\\n",
       "0         0  ...        0     0            0          0   \n",
       "1         0  ...        0     0            0          0   \n",
       "2         0  ...        0     0            0          0   \n",
       "\n",
       "   Source Adobe Analytics   The Trade Desk  Thinkgreemfromhome  Unknown   WM   \\\n",
       "0                        0               0                   0         0    0   \n",
       "1                        0               0                   0         0    0   \n",
       "2                        0               0                   0         0    0   \n",
       "\n",
       "   YouTube  \n",
       "0        0  \n",
       "1        0  \n",
       "2        0  \n",
       "\n",
       "[3 rows x 48 columns]"
      ]
     },
     "execution_count": 23,
     "metadata": {},
     "output_type": "execute_result"
    }
   ],
   "source": [
    "df_cookieV2.head(3)"
   ]
  },
  {
   "cell_type": "markdown",
   "id": "870519db",
   "metadata": {},
   "source": [
    "**Process Unstructured Text Data**"
   ]
  },
  {
   "cell_type": "markdown",
   "id": "ed5898a2",
   "metadata": {},
   "source": [
    "Now that the dataset is cleaned and processed, the final step is to process the unstructured text data in the 'Concat' column. In order to build a NLP OvR Logistic Regression model, I need to process the text data in the following steps:\n",
    "\n",
    "1. Remove HTML\n",
    "2. Convert all text to lower case\n",
    "3. Remove punctuations and special characters\n",
    "4. Remove stop words\n",
    "5. Apply stemmer\n"
   ]
  },
  {
   "cell_type": "code",
   "execution_count": 24,
   "id": "7879fc16",
   "metadata": {},
   "outputs": [],
   "source": [
    "# creating a new df for consistency\n",
    "df_cookieV3 = df_cookieV2"
   ]
  },
  {
   "cell_type": "markdown",
   "id": "0dd0217c",
   "metadata": {},
   "source": [
    "***1**. Removing HTML tags*\n",
    "\n",
    "This is optional, but it doesn't hurt to do this just in case."
   ]
  },
  {
   "cell_type": "code",
   "execution_count": 25,
   "id": "0bacf99c",
   "metadata": {},
   "outputs": [
    {
     "name": "stderr",
     "output_type": "stream",
     "text": [
      "C:\\Users\\ivan2\\AppData\\Local\\Temp\\ipykernel_4696\\1868631959.py:6: MarkupResemblesLocatorWarning: The input looks more like a filename than markup. You may want to open this file and pass the filehandle into Beautiful Soup.\n",
      "  return BeautifulSoup(text, \"html.parser\").get_text()\n"
     ]
    }
   ],
   "source": [
    "# Import BeautifulSoup to remove HTML tags\n",
    "from bs4 import BeautifulSoup\n",
    "\n",
    "# Define a function to apply BeautifulSoup and get text\n",
    "def remove_html(text):\n",
    "    return BeautifulSoup(text, \"html.parser\").get_text()\n",
    "\n",
    "# Appling the BeautifulSoup function directly to the concat column\n",
    "df_cookieV3['Description'] = df_cookieV3['Description'].apply(remove_html)"
   ]
  },
  {
   "cell_type": "code",
   "execution_count": 26,
   "id": "aec94e29",
   "metadata": {},
   "outputs": [
    {
     "name": "stdout",
     "output_type": "stream",
     "text": [
      " This cookie is set by the cookie compliance solution from OneTrust. It stores information about the categories of cookies the site uses and whether visitors have given or withdrawn consent for the use of each category. This enables site owners to prevent cookies in each category from being set in the users browser, when consent is not given. The cookie has a normal lifespan of one year, so that returning visitors to the site will have their preferences remembered. It contains no information that can identify the site visitor. \n"
     ]
    }
   ],
   "source": [
    "print(df_cookieV3['Description'][3])"
   ]
  },
  {
   "cell_type": "markdown",
   "id": "a8615639",
   "metadata": {},
   "source": [
    "***2**. Convert all text to lower case*"
   ]
  },
  {
   "cell_type": "code",
   "execution_count": 27,
   "id": "653f52f8",
   "metadata": {},
   "outputs": [],
   "source": [
    "# Convert all text to lower case in the data frame\n",
    "df_cookieV3['Description'] = df_cookieV3['Description'].str.lower()"
   ]
  },
  {
   "cell_type": "code",
   "execution_count": 28,
   "id": "b2cbd38b",
   "metadata": {},
   "outputs": [
    {
     "name": "stdout",
     "output_type": "stream",
     "text": [
      " this cookie is set by the cookie compliance solution from onetrust. it stores information about the categories of cookies the site uses and whether visitors have given or withdrawn consent for the use of each category. this enables site owners to prevent cookies in each category from being set in the users browser, when consent is not given. the cookie has a normal lifespan of one year, so that returning visitors to the site will have their preferences remembered. it contains no information that can identify the site visitor. \n"
     ]
    }
   ],
   "source": [
    "print(df_cookieV3['Description'][3])"
   ]
  },
  {
   "cell_type": "markdown",
   "id": "5e4b0da8",
   "metadata": {},
   "source": [
    "***3.** Remove punctuations and special characters*"
   ]
  },
  {
   "cell_type": "code",
   "execution_count": 29,
   "id": "22ce26ce",
   "metadata": {},
   "outputs": [],
   "source": [
    "import re\n",
    "\n",
    "# Replace punctuations and special characters with an empty string\n",
    "# The regular expression '[^\\w\\s]' matches any character that is not a word character (alphanumeric) or whitespace\n",
    "df_cookieV3['Description'] = df_cookieV3['Description'].str.replace('[^\\w\\s]', '', regex=True)"
   ]
  },
  {
   "cell_type": "code",
   "execution_count": 30,
   "id": "d22c631c",
   "metadata": {},
   "outputs": [
    {
     "name": "stdout",
     "output_type": "stream",
     "text": [
      " this cookie is set by the cookie compliance solution from onetrust it stores information about the categories of cookies the site uses and whether visitors have given or withdrawn consent for the use of each category this enables site owners to prevent cookies in each category from being set in the users browser when consent is not given the cookie has a normal lifespan of one year so that returning visitors to the site will have their preferences remembered it contains no information that can identify the site visitor \n"
     ]
    }
   ],
   "source": [
    "print(df_cookieV3['Description'][3])"
   ]
  },
  {
   "cell_type": "markdown",
   "id": "97ad4654",
   "metadata": {},
   "source": [
    "***4.** Remove stop words*"
   ]
  },
  {
   "cell_type": "code",
   "execution_count": 31,
   "id": "01bebd32",
   "metadata": {},
   "outputs": [
    {
     "name": "stdout",
     "output_type": "stream",
     "text": [
      "['i', 'me', 'my', 'myself', 'we', 'our', 'ours', 'ourselves', 'you', \"you're\", \"you've\", \"you'll\", \"you'd\", 'your', 'yours', 'yourself', 'yourselves', 'he', 'him', 'his', 'himself', 'she', \"she's\", 'her', 'hers', 'herself', 'it', \"it's\", 'its', 'itself', 'they', 'them', 'their', 'theirs', 'themselves', 'what', 'which', 'who', 'whom', 'this', 'that', \"that'll\", 'these', 'those', 'am', 'is', 'are', 'was', 'were', 'be', 'been', 'being', 'have', 'has', 'had', 'having', 'do', 'does', 'did', 'doing', 'a', 'an', 'the', 'and', 'but', 'if', 'or', 'because', 'as', 'until', 'while', 'of', 'at', 'by', 'for', 'with', 'about', 'against', 'between', 'into', 'through', 'during', 'before', 'after', 'above', 'below', 'to', 'from', 'up', 'down', 'in', 'out', 'on', 'off', 'over', 'under', 'again', 'further', 'then', 'once', 'here', 'there', 'when', 'where', 'why', 'how', 'all', 'any', 'both', 'each', 'few', 'more', 'most', 'other', 'some', 'such', 'no', 'nor', 'not', 'only', 'own', 'same', 'so', 'than', 'too', 'very', 's', 't', 'can', 'will', 'just', 'don', \"don't\", 'should', \"should've\", 'now', 'd', 'll', 'm', 'o', 're', 've', 'y', 'ain', 'aren', \"aren't\", 'couldn', \"couldn't\", 'didn', \"didn't\", 'doesn', \"doesn't\", 'hadn', \"hadn't\", 'hasn', \"hasn't\", 'haven', \"haven't\", 'isn', \"isn't\", 'ma', 'mightn', \"mightn't\", 'mustn', \"mustn't\", 'needn', \"needn't\", 'shan', \"shan't\", 'shouldn', \"shouldn't\", 'wasn', \"wasn't\", 'weren', \"weren't\", 'won', \"won't\", 'wouldn', \"wouldn't\"]\n"
     ]
    }
   ],
   "source": [
    "# Import the stop word list\n",
    "from nltk.corpus import stopwords \n",
    "print(stopwords.words(\"english\")) "
   ]
  },
  {
   "cell_type": "code",
   "execution_count": 32,
   "id": "cefdb07a",
   "metadata": {},
   "outputs": [],
   "source": [
    "from nltk.tokenize import word_tokenize\n",
    "\n",
    "# Load the list of English stop words\n",
    "stop_words = set(stopwords.words('english'))\n",
    "\n",
    "# Define a function to remove stop words from a text\n",
    "def remove_stopwords(text):\n",
    "    # Tokenize the text\n",
    "    tokens = word_tokenize(text)\n",
    "    # Remove stop words\n",
    "    filtered_tokens = [w for w in tokens if not w.lower() in stop_words]\n",
    "    # Join the tokens back into a string\n",
    "    return ' '.join(filtered_tokens)\n",
    "\n",
    "# Apply the function to the review column\n",
    "df_cookieV3['Description'] = df_cookieV3['Description'].apply(remove_stopwords)"
   ]
  },
  {
   "cell_type": "code",
   "execution_count": 33,
   "id": "970fb739",
   "metadata": {},
   "outputs": [
    {
     "name": "stdout",
     "output_type": "stream",
     "text": [
      "cookie set cookie compliance solution onetrust stores information categories cookies site uses whether visitors given withdrawn consent use category enables site owners prevent cookies category set users browser consent given cookie normal lifespan one year returning visitors site preferences remembered contains information identify site visitor\n"
     ]
    }
   ],
   "source": [
    "print(df_cookieV3['Description'][3])"
   ]
  },
  {
   "cell_type": "markdown",
   "id": "bb5086d3",
   "metadata": {},
   "source": [
    "***5.** Apply stemmer*"
   ]
  },
  {
   "cell_type": "code",
   "execution_count": 34,
   "id": "2c38361e",
   "metadata": {},
   "outputs": [],
   "source": [
    "from nltk.stem import PorterStemmer\n",
    "\n",
    "# Create an instance of the PorterStemmer\n",
    "stemmer = PorterStemmer()\n",
    "\n",
    "# Define a function to stem each word in the text\n",
    "def stem_text(text):\n",
    "    # Tokenize the text\n",
    "    tokens = word_tokenize(text)\n",
    "    # Stem each word\n",
    "    stemmed_tokens = [stemmer.stem(word) for word in tokens]\n",
    "    # Join the stemmed words back into a string\n",
    "    return ' '.join(stemmed_tokens)\n",
    "\n",
    "# Apply the function to the review column\n",
    "df_cookieV3['Description'] = df_cookieV3['Description'].apply(stem_text)"
   ]
  },
  {
   "cell_type": "code",
   "execution_count": 35,
   "id": "62c82bba",
   "metadata": {},
   "outputs": [
    {
     "name": "stdout",
     "output_type": "stream",
     "text": [
      "cooki set cooki complianc solut onetrust store inform categori cooki site use whether visitor given withdrawn consent use categori enabl site owner prevent cooki categori set user browser consent given cooki normal lifespan one year return visitor site prefer rememb contain inform identifi site visitor\n"
     ]
    }
   ],
   "source": [
    "print(df_cookieV3['Description'][3])"
   ]
  },
  {
   "cell_type": "code",
   "execution_count": 36,
   "id": "59e1dfbb",
   "metadata": {},
   "outputs": [
    {
     "data": {
      "text/html": [
       "<div>\n",
       "<style scoped>\n",
       "    .dataframe tbody tr th:only-of-type {\n",
       "        vertical-align: middle;\n",
       "    }\n",
       "\n",
       "    .dataframe tbody tr th {\n",
       "        vertical-align: top;\n",
       "    }\n",
       "\n",
       "    .dataframe thead th {\n",
       "        text-align: right;\n",
       "    }\n",
       "</style>\n",
       "<table border=\"1\" class=\"dataframe\">\n",
       "  <thead>\n",
       "    <tr style=\"text-align: right;\">\n",
       "      <th></th>\n",
       "      <th>CategoryID</th>\n",
       "      <th>Description</th>\n",
       "      <th>AddThis</th>\n",
       "      <th>Adobe Advertising</th>\n",
       "      <th>Adobe Analytics</th>\n",
       "      <th>Adobe Audience Manager.</th>\n",
       "      <th>Adobe Experience Cloud</th>\n",
       "      <th>Adobe Experience Platform</th>\n",
       "      <th>Adobe Target</th>\n",
       "      <th>Algolia</th>\n",
       "      <th>...</th>\n",
       "      <th>Oracle</th>\n",
       "      <th>PHP</th>\n",
       "      <th>SalesForce</th>\n",
       "      <th>ShareThis</th>\n",
       "      <th>Source Adobe Analytics</th>\n",
       "      <th>The Trade Desk</th>\n",
       "      <th>Thinkgreemfromhome</th>\n",
       "      <th>Unknown</th>\n",
       "      <th>WM</th>\n",
       "      <th>YouTube</th>\n",
       "    </tr>\n",
       "  </thead>\n",
       "  <tbody>\n",
       "    <tr>\n",
       "      <th>0</th>\n",
       "      <td>3</td>\n",
       "      <td>use distinguish user session cooki creat javas...</td>\n",
       "      <td>0</td>\n",
       "      <td>0</td>\n",
       "      <td>0</td>\n",
       "      <td>0</td>\n",
       "      <td>0</td>\n",
       "      <td>0</td>\n",
       "      <td>0</td>\n",
       "      <td>0</td>\n",
       "      <td>...</td>\n",
       "      <td>0</td>\n",
       "      <td>0</td>\n",
       "      <td>0</td>\n",
       "      <td>0</td>\n",
       "      <td>0</td>\n",
       "      <td>0</td>\n",
       "      <td>0</td>\n",
       "      <td>0</td>\n",
       "      <td>0</td>\n",
       "      <td>0</td>\n",
       "    </tr>\n",
       "    <tr>\n",
       "      <th>1</th>\n",
       "      <td>1</td>\n",
       "      <td>lamptrack applic regist user account id</td>\n",
       "      <td>0</td>\n",
       "      <td>0</td>\n",
       "      <td>0</td>\n",
       "      <td>0</td>\n",
       "      <td>0</td>\n",
       "      <td>0</td>\n",
       "      <td>0</td>\n",
       "      <td>0</td>\n",
       "      <td>...</td>\n",
       "      <td>0</td>\n",
       "      <td>0</td>\n",
       "      <td>0</td>\n",
       "      <td>0</td>\n",
       "      <td>0</td>\n",
       "      <td>0</td>\n",
       "      <td>0</td>\n",
       "      <td>0</td>\n",
       "      <td>0</td>\n",
       "      <td>0</td>\n",
       "    </tr>\n",
       "    <tr>\n",
       "      <th>2</th>\n",
       "      <td>4</td>\n",
       "      <td>secur analyt function advertis</td>\n",
       "      <td>0</td>\n",
       "      <td>0</td>\n",
       "      <td>0</td>\n",
       "      <td>0</td>\n",
       "      <td>0</td>\n",
       "      <td>0</td>\n",
       "      <td>0</td>\n",
       "      <td>0</td>\n",
       "      <td>...</td>\n",
       "      <td>0</td>\n",
       "      <td>0</td>\n",
       "      <td>0</td>\n",
       "      <td>0</td>\n",
       "      <td>0</td>\n",
       "      <td>0</td>\n",
       "      <td>0</td>\n",
       "      <td>0</td>\n",
       "      <td>0</td>\n",
       "      <td>0</td>\n",
       "    </tr>\n",
       "  </tbody>\n",
       "</table>\n",
       "<p>3 rows × 48 columns</p>\n",
       "</div>"
      ],
      "text/plain": [
       "  CategoryID                                        Description  AddThis   \\\n",
       "0          3  use distinguish user session cooki creat javas...         0   \n",
       "1          1            lamptrack applic regist user account id         0   \n",
       "2          4                     secur analyt function advertis         0   \n",
       "\n",
       "   Adobe Advertising   Adobe Analytics   Adobe Audience Manager.   \\\n",
       "0                   0                 0                         0   \n",
       "1                   0                 0                         0   \n",
       "2                   0                 0                         0   \n",
       "\n",
       "   Adobe Experience Cloud   Adobe Experience Platform   Adobe Target   \\\n",
       "0                        0                           0              0   \n",
       "1                        0                           0              0   \n",
       "2                        0                           0              0   \n",
       "\n",
       "   Algolia   ...  Oracle   PHP   SalesForce   ShareThis  \\\n",
       "0         0  ...        0     0            0          0   \n",
       "1         0  ...        0     0            0          0   \n",
       "2         0  ...        0     0            0          0   \n",
       "\n",
       "   Source Adobe Analytics   The Trade Desk  Thinkgreemfromhome  Unknown   WM   \\\n",
       "0                        0               0                   0         0    0   \n",
       "1                        0               0                   0         0    0   \n",
       "2                        0               0                   0         0    0   \n",
       "\n",
       "   YouTube  \n",
       "0        0  \n",
       "1        0  \n",
       "2        0  \n",
       "\n",
       "[3 rows x 48 columns]"
      ]
     },
     "execution_count": 36,
     "metadata": {},
     "output_type": "execute_result"
    }
   ],
   "source": [
    "df_cookieV3.head(3)"
   ]
  },
  {
   "cell_type": "markdown",
   "id": "3807b3a2",
   "metadata": {},
   "source": [
    "The dataset is now processed and ready for modeling. To recap, I removed features that did not add any predictive value, created dummy variables of a predictive categorial feature, and lastly processed unstructured text data for modeling.\n",
    "\n",
    "This dataset can now be split into training and test sets to begin the modeling phase."
   ]
  },
  {
   "cell_type": "markdown",
   "id": "899b3d0b",
   "metadata": {},
   "source": [
    "# Modeling Phase"
   ]
  },
  {
   "cell_type": "markdown",
   "id": "9b3ffdea",
   "metadata": {},
   "source": [
    "### Initial Steps"
   ]
  },
  {
   "cell_type": "markdown",
   "id": "025cbc94",
   "metadata": {},
   "source": [
    "**Split into Training and Test Sets**"
   ]
  },
  {
   "cell_type": "markdown",
   "id": "745fdaa1",
   "metadata": {},
   "source": [
    "Given the imbalance in the dataset, specifically with a high volume of 'CategoryID' 1 values and low volume of 'CategoryID' 3 values, it's important to ensure that each category is adequately represented in both the training and test sets. \n",
    "\n",
    "To achieve this I will use stratified sampling. This will ensure that the dat is divided in a way tha the proportion of each category is maintained in both training and test sets."
   ]
  },
  {
   "cell_type": "code",
   "execution_count": 37,
   "id": "2474ef9a",
   "metadata": {},
   "outputs": [],
   "source": [
    "from sklearn.model_selection import train_test_split\n",
    "\n",
    "# df_cookieV3 is the cleaned and processed df and 'CategoryID' is the target variable\n",
    "\n",
    "# droping target feature\n",
    "X = df_cookieV3.drop(['CategoryID'], axis=1)\n",
    "y = df_cookieV3['CategoryID']\n",
    "\n",
    "# spliting the data using stratified sampling to maintain category proportions\n",
    "X_train_raw, X_test_raw, y_train, y_test = train_test_split(X, y, test_size=0.3, stratify=y, random_state=42)\n",
    "\n",
    "# separating 'description' feature for TF-IDF vectorization\n",
    "X_train_concat = X_train_raw['Description']\n",
    "X_test_concat = X_test_raw['Description']\n",
    "\n",
    "# droping 'description' column from the raw training and test sets AFTER its been separated\n",
    "X_train_raw = X_train_raw.drop(['Description'], axis=1)\n",
    "X_test_raw = X_test_raw.drop(['Description'], axis=1)"
   ]
  },
  {
   "cell_type": "markdown",
   "id": "d2284908",
   "metadata": {},
   "source": [
    "**Feature Enginering and Text Vectorization**\n",
    "\n",
    "Fit and apply the tf-idf vectorization to the training set. Apply but not fit the tf-idf vectorization to the test set"
   ]
  },
  {
   "cell_type": "code",
   "execution_count": 38,
   "id": "0e23a35b",
   "metadata": {},
   "outputs": [],
   "source": [
    "from sklearn.feature_extraction.text import TfidfVectorizer\n",
    "\n",
    "# apply tfidf only to the description feature of the training and test sets\n",
    "tfidf_vectorizer = TfidfVectorizer(max_features=1000)  # added max feature to reduce computational load\n",
    "\n",
    "X_train_tfidf = tfidf_vectorizer.fit_transform(X_train_concat)\n",
    "X_test_tfidf = tfidf_vectorizer.transform(X_test_concat)"
   ]
  },
  {
   "cell_type": "markdown",
   "id": "c7fba8ac",
   "metadata": {},
   "source": [
    "**Concatenate in One-Hot Encoded Featrues**"
   ]
  },
  {
   "cell_type": "markdown",
   "id": "0026823f",
   "metadata": {},
   "source": [
    "Adding one-hot encoded features to the tf-idf features. The one-hot encoded features add predictive value to the model so we want to include these."
   ]
  },
  {
   "cell_type": "code",
   "execution_count": 39,
   "id": "ecc49998",
   "metadata": {},
   "outputs": [],
   "source": [
    "import scipy.sparse as sp\n",
    "\n",
    "# Concatenate the one-hot encoded features with the TF-IDF features\n",
    "X_train_final = sp.hstack((X_train_raw.values, X_train_tfidf), format='csr')\n",
    "X_test_final = sp.hstack((X_test_raw.values, X_test_tfidf), format='csr')"
   ]
  },
  {
   "cell_type": "markdown",
   "id": "da534583",
   "metadata": {},
   "source": [
    "### Train and Evaluate a Random Forest Classifier Model"
   ]
  },
  {
   "cell_type": "markdown",
   "id": "b9491909",
   "metadata": {},
   "source": [
    "I chose a Random Forest Classifier Model because it has the capability to do multi-variant classification. Since our target variable is not binary, this is a good model to evaluate against."
   ]
  },
  {
   "cell_type": "markdown",
   "id": "e7883476",
   "metadata": {},
   "source": [
    "*Model Training*"
   ]
  },
  {
   "cell_type": "code",
   "execution_count": 40,
   "id": "caad3c2e",
   "metadata": {},
   "outputs": [
    {
     "data": {
      "text/html": [
       "<style>#sk-container-id-1 {color: black;}#sk-container-id-1 pre{padding: 0;}#sk-container-id-1 div.sk-toggleable {background-color: white;}#sk-container-id-1 label.sk-toggleable__label {cursor: pointer;display: block;width: 100%;margin-bottom: 0;padding: 0.3em;box-sizing: border-box;text-align: center;}#sk-container-id-1 label.sk-toggleable__label-arrow:before {content: \"▸\";float: left;margin-right: 0.25em;color: #696969;}#sk-container-id-1 label.sk-toggleable__label-arrow:hover:before {color: black;}#sk-container-id-1 div.sk-estimator:hover label.sk-toggleable__label-arrow:before {color: black;}#sk-container-id-1 div.sk-toggleable__content {max-height: 0;max-width: 0;overflow: hidden;text-align: left;background-color: #f0f8ff;}#sk-container-id-1 div.sk-toggleable__content pre {margin: 0.2em;color: black;border-radius: 0.25em;background-color: #f0f8ff;}#sk-container-id-1 input.sk-toggleable__control:checked~div.sk-toggleable__content {max-height: 200px;max-width: 100%;overflow: auto;}#sk-container-id-1 input.sk-toggleable__control:checked~label.sk-toggleable__label-arrow:before {content: \"▾\";}#sk-container-id-1 div.sk-estimator input.sk-toggleable__control:checked~label.sk-toggleable__label {background-color: #d4ebff;}#sk-container-id-1 div.sk-label input.sk-toggleable__control:checked~label.sk-toggleable__label {background-color: #d4ebff;}#sk-container-id-1 input.sk-hidden--visually {border: 0;clip: rect(1px 1px 1px 1px);clip: rect(1px, 1px, 1px, 1px);height: 1px;margin: -1px;overflow: hidden;padding: 0;position: absolute;width: 1px;}#sk-container-id-1 div.sk-estimator {font-family: monospace;background-color: #f0f8ff;border: 1px dotted black;border-radius: 0.25em;box-sizing: border-box;margin-bottom: 0.5em;}#sk-container-id-1 div.sk-estimator:hover {background-color: #d4ebff;}#sk-container-id-1 div.sk-parallel-item::after {content: \"\";width: 100%;border-bottom: 1px solid gray;flex-grow: 1;}#sk-container-id-1 div.sk-label:hover label.sk-toggleable__label {background-color: #d4ebff;}#sk-container-id-1 div.sk-serial::before {content: \"\";position: absolute;border-left: 1px solid gray;box-sizing: border-box;top: 0;bottom: 0;left: 50%;z-index: 0;}#sk-container-id-1 div.sk-serial {display: flex;flex-direction: column;align-items: center;background-color: white;padding-right: 0.2em;padding-left: 0.2em;position: relative;}#sk-container-id-1 div.sk-item {position: relative;z-index: 1;}#sk-container-id-1 div.sk-parallel {display: flex;align-items: stretch;justify-content: center;background-color: white;position: relative;}#sk-container-id-1 div.sk-item::before, #sk-container-id-1 div.sk-parallel-item::before {content: \"\";position: absolute;border-left: 1px solid gray;box-sizing: border-box;top: 0;bottom: 0;left: 50%;z-index: -1;}#sk-container-id-1 div.sk-parallel-item {display: flex;flex-direction: column;z-index: 1;position: relative;background-color: white;}#sk-container-id-1 div.sk-parallel-item:first-child::after {align-self: flex-end;width: 50%;}#sk-container-id-1 div.sk-parallel-item:last-child::after {align-self: flex-start;width: 50%;}#sk-container-id-1 div.sk-parallel-item:only-child::after {width: 0;}#sk-container-id-1 div.sk-dashed-wrapped {border: 1px dashed gray;margin: 0 0.4em 0.5em 0.4em;box-sizing: border-box;padding-bottom: 0.4em;background-color: white;}#sk-container-id-1 div.sk-label label {font-family: monospace;font-weight: bold;display: inline-block;line-height: 1.2em;}#sk-container-id-1 div.sk-label-container {text-align: center;}#sk-container-id-1 div.sk-container {/* jupyter's `normalize.less` sets `[hidden] { display: none; }` but bootstrap.min.css set `[hidden] { display: none !important; }` so we also need the `!important` here to be able to override the default hidden behavior on the sphinx rendered scikit-learn.org. See: https://github.com/scikit-learn/scikit-learn/issues/21755 */display: inline-block !important;position: relative;}#sk-container-id-1 div.sk-text-repr-fallback {display: none;}</style><div id=\"sk-container-id-1\" class=\"sk-top-container\"><div class=\"sk-text-repr-fallback\"><pre>RandomForestClassifier(random_state=42)</pre><b>In a Jupyter environment, please rerun this cell to show the HTML representation or trust the notebook. <br />On GitHub, the HTML representation is unable to render, please try loading this page with nbviewer.org.</b></div><div class=\"sk-container\" hidden><div class=\"sk-item\"><div class=\"sk-estimator sk-toggleable\"><input class=\"sk-toggleable__control sk-hidden--visually\" id=\"sk-estimator-id-1\" type=\"checkbox\" checked><label for=\"sk-estimator-id-1\" class=\"sk-toggleable__label sk-toggleable__label-arrow\">RandomForestClassifier</label><div class=\"sk-toggleable__content\"><pre>RandomForestClassifier(random_state=42)</pre></div></div></div></div></div>"
      ],
      "text/plain": [
       "RandomForestClassifier(random_state=42)"
      ]
     },
     "execution_count": 40,
     "metadata": {},
     "output_type": "execute_result"
    }
   ],
   "source": [
    "from sklearn.ensemble import RandomForestClassifier\n",
    "\n",
    "# initializing the model\n",
    "model = RandomForestClassifier(n_estimators=100, random_state=42)  # adjustable model parameters\n",
    "\n",
    "# training the model\n",
    "model.fit(X_train_final, y_train)"
   ]
  },
  {
   "cell_type": "markdown",
   "id": "b1fd82c1",
   "metadata": {},
   "source": [
    "*Model Evaluation*"
   ]
  },
  {
   "cell_type": "code",
   "execution_count": 41,
   "id": "296a2dca",
   "metadata": {},
   "outputs": [
    {
     "name": "stdout",
     "output_type": "stream",
     "text": [
      "Model Accuracy: 0.8421052631578947\n",
      "              precision    recall  f1-score   support\n",
      "\n",
      "           1       0.81      1.00      0.89        34\n",
      "           2       1.00      0.33      0.50         3\n",
      "           3       0.91      0.77      0.83        13\n",
      "           4       1.00      0.43      0.60         7\n",
      "\n",
      "    accuracy                           0.84        57\n",
      "   macro avg       0.93      0.63      0.71        57\n",
      "weighted avg       0.87      0.84      0.82        57\n",
      "\n"
     ]
    }
   ],
   "source": [
    "from sklearn.metrics import accuracy_score, classification_report\n",
    "\n",
    "# make predictions on the test set\n",
    "y_pred = model.predict(X_test_final)\n",
    "\n",
    "# calculate accuracy\n",
    "accuracy = accuracy_score(y_test, y_pred)\n",
    "print(f\"Model Accuracy: {accuracy}\")\n",
    "\n",
    "# more comprehensive classification report\n",
    "print(classification_report(y_test, y_pred))"
   ]
  },
  {
   "cell_type": "code",
   "execution_count": 48,
   "id": "9fb58c4f",
   "metadata": {},
   "outputs": [],
   "source": [
    "from sklearn.metrics import confusion_matrix, ConfusionMatrixDisplay\n",
    "\n",
    "# Function to plot confusion matrix\n",
    "def plot_confusion_matrix(y_true, y_pred, title='Confusion Matrix'):\n",
    "    cm = confusion_matrix(y_true, y_pred)\n",
    "    disp = ConfusionMatrixDisplay(confusion_matrix=cm, display_labels=['Class 1', 'Class 2', 'Class 3', 'Class 4'])\n",
    "    disp.plot(cmap='Blues', colorbar=False)\n",
    "    plt.title(title)\n",
    "    plt.xlabel('Predicted Class')\n",
    "    plt.ylabel('True Class')\n",
    "    plt.show()"
   ]
  },
  {
   "cell_type": "code",
   "execution_count": 49,
   "id": "ddc39505",
   "metadata": {},
   "outputs": [
    {
     "name": "stdout",
     "output_type": "stream",
     "text": [
      "Random Forest Classifier Confusion Matrix:\n"
     ]
    },
    {
     "data": {
      "image/png": "[encoded data removed]",
      "text/plain": [
       "<Figure size 640x480 with 1 Axes>"
      ]
     },
     "metadata": {},
     "output_type": "display_data"
    }
   ],
   "source": [
    "# RandomForestClassifier Confusion Matrix\n",
    "print(\"Random Forest Classifier Confusion Matrix:\")\n",
    "plot_confusion_matrix(y_test, model.predict(X_test_final), title='Random Forest Classifier')"
   ]
  },
  {
   "cell_type": "markdown",
   "id": "761daae9",
   "metadata": {},
   "source": [
    "### Train and Evalaute a Logistic Rregrssion Classification OvR Model"
   ]
  },
  {
   "cell_type": "markdown",
   "id": "45d15e1e",
   "metadata": {},
   "source": [
    "When I started this project I expetected to use a Logistic Reg Classification model, but later realized that a binary model would not work for our target variable. After doing more research I found that an OvR model could handle milti-variant classifications and I wanted to use this method to train and evalaute a logistic reg classification model since it is a common and simple model to implement."
   ]
  },
  {
   "cell_type": "markdown",
   "id": "1db1530f",
   "metadata": {},
   "source": [
    "*Model Training*"
   ]
  },
  {
   "cell_type": "code",
   "execution_count": 42,
   "id": "b15265cb",
   "metadata": {},
   "outputs": [
    {
     "data": {
      "text/html": [
       "<style>#sk-container-id-2 {color: black;}#sk-container-id-2 pre{padding: 0;}#sk-container-id-2 div.sk-toggleable {background-color: white;}#sk-container-id-2 label.sk-toggleable__label {cursor: pointer;display: block;width: 100%;margin-bottom: 0;padding: 0.3em;box-sizing: border-box;text-align: center;}#sk-container-id-2 label.sk-toggleable__label-arrow:before {content: \"▸\";float: left;margin-right: 0.25em;color: #696969;}#sk-container-id-2 label.sk-toggleable__label-arrow:hover:before {color: black;}#sk-container-id-2 div.sk-estimator:hover label.sk-toggleable__label-arrow:before {color: black;}#sk-container-id-2 div.sk-toggleable__content {max-height: 0;max-width: 0;overflow: hidden;text-align: left;background-color: #f0f8ff;}#sk-container-id-2 div.sk-toggleable__content pre {margin: 0.2em;color: black;border-radius: 0.25em;background-color: #f0f8ff;}#sk-container-id-2 input.sk-toggleable__control:checked~div.sk-toggleable__content {max-height: 200px;max-width: 100%;overflow: auto;}#sk-container-id-2 input.sk-toggleable__control:checked~label.sk-toggleable__label-arrow:before {content: \"▾\";}#sk-container-id-2 div.sk-estimator input.sk-toggleable__control:checked~label.sk-toggleable__label {background-color: #d4ebff;}#sk-container-id-2 div.sk-label input.sk-toggleable__control:checked~label.sk-toggleable__label {background-color: #d4ebff;}#sk-container-id-2 input.sk-hidden--visually {border: 0;clip: rect(1px 1px 1px 1px);clip: rect(1px, 1px, 1px, 1px);height: 1px;margin: -1px;overflow: hidden;padding: 0;position: absolute;width: 1px;}#sk-container-id-2 div.sk-estimator {font-family: monospace;background-color: #f0f8ff;border: 1px dotted black;border-radius: 0.25em;box-sizing: border-box;margin-bottom: 0.5em;}#sk-container-id-2 div.sk-estimator:hover {background-color: #d4ebff;}#sk-container-id-2 div.sk-parallel-item::after {content: \"\";width: 100%;border-bottom: 1px solid gray;flex-grow: 1;}#sk-container-id-2 div.sk-label:hover label.sk-toggleable__label {background-color: #d4ebff;}#sk-container-id-2 div.sk-serial::before {content: \"\";position: absolute;border-left: 1px solid gray;box-sizing: border-box;top: 0;bottom: 0;left: 50%;z-index: 0;}#sk-container-id-2 div.sk-serial {display: flex;flex-direction: column;align-items: center;background-color: white;padding-right: 0.2em;padding-left: 0.2em;position: relative;}#sk-container-id-2 div.sk-item {position: relative;z-index: 1;}#sk-container-id-2 div.sk-parallel {display: flex;align-items: stretch;justify-content: center;background-color: white;position: relative;}#sk-container-id-2 div.sk-item::before, #sk-container-id-2 div.sk-parallel-item::before {content: \"\";position: absolute;border-left: 1px solid gray;box-sizing: border-box;top: 0;bottom: 0;left: 50%;z-index: -1;}#sk-container-id-2 div.sk-parallel-item {display: flex;flex-direction: column;z-index: 1;position: relative;background-color: white;}#sk-container-id-2 div.sk-parallel-item:first-child::after {align-self: flex-end;width: 50%;}#sk-container-id-2 div.sk-parallel-item:last-child::after {align-self: flex-start;width: 50%;}#sk-container-id-2 div.sk-parallel-item:only-child::after {width: 0;}#sk-container-id-2 div.sk-dashed-wrapped {border: 1px dashed gray;margin: 0 0.4em 0.5em 0.4em;box-sizing: border-box;padding-bottom: 0.4em;background-color: white;}#sk-container-id-2 div.sk-label label {font-family: monospace;font-weight: bold;display: inline-block;line-height: 1.2em;}#sk-container-id-2 div.sk-label-container {text-align: center;}#sk-container-id-2 div.sk-container {/* jupyter's `normalize.less` sets `[hidden] { display: none; }` but bootstrap.min.css set `[hidden] { display: none !important; }` so we also need the `!important` here to be able to override the default hidden behavior on the sphinx rendered scikit-learn.org. See: https://github.com/scikit-learn/scikit-learn/issues/21755 */display: inline-block !important;position: relative;}#sk-container-id-2 div.sk-text-repr-fallback {display: none;}</style><div id=\"sk-container-id-2\" class=\"sk-top-container\"><div class=\"sk-text-repr-fallback\"><pre>LogisticRegression(multi_class=&#x27;ovr&#x27;, random_state=42, solver=&#x27;liblinear&#x27;)</pre><b>In a Jupyter environment, please rerun this cell to show the HTML representation or trust the notebook. <br />On GitHub, the HTML representation is unable to render, please try loading this page with nbviewer.org.</b></div><div class=\"sk-container\" hidden><div class=\"sk-item\"><div class=\"sk-estimator sk-toggleable\"><input class=\"sk-toggleable__control sk-hidden--visually\" id=\"sk-estimator-id-2\" type=\"checkbox\" checked><label for=\"sk-estimator-id-2\" class=\"sk-toggleable__label sk-toggleable__label-arrow\">LogisticRegression</label><div class=\"sk-toggleable__content\"><pre>LogisticRegression(multi_class=&#x27;ovr&#x27;, random_state=42, solver=&#x27;liblinear&#x27;)</pre></div></div></div></div></div>"
      ],
      "text/plain": [
       "LogisticRegression(multi_class='ovr', random_state=42, solver='liblinear')"
      ]
     },
     "execution_count": 42,
     "metadata": {},
     "output_type": "execute_result"
    }
   ],
   "source": [
    "from sklearn.linear_model import LogisticRegression\n",
    "\n",
    "# Initialize the Logistic Regression model with the OvR strategy\n",
    "logreg_ovr = LogisticRegression(multi_class='ovr', solver='liblinear', random_state=42)\n",
    "\n",
    "# Train the model\n",
    "logreg_ovr.fit(X_train_final, y_train)"
   ]
  },
  {
   "cell_type": "markdown",
   "id": "6b8942ef",
   "metadata": {},
   "source": [
    "*Model Evaluation*"
   ]
  },
  {
   "cell_type": "code",
   "execution_count": 43,
   "id": "75a1807c",
   "metadata": {},
   "outputs": [
    {
     "name": "stdout",
     "output_type": "stream",
     "text": [
      "              precision    recall  f1-score   support\n",
      "\n",
      "           1       0.83      1.00      0.91        34\n",
      "           2       1.00      0.33      0.50         3\n",
      "           3       0.92      0.85      0.88        13\n",
      "           4       1.00      0.43      0.60         7\n",
      "\n",
      "    accuracy                           0.86        57\n",
      "   macro avg       0.94      0.65      0.72        57\n",
      "weighted avg       0.88      0.86      0.84        57\n",
      "\n"
     ]
    }
   ],
   "source": [
    "# Make predictions on the test set\n",
    "y_pred = logreg_ovr.predict(X_test_final)\n",
    "\n",
    "# Print the classification report to evaluate the model\n",
    "print(classification_report(y_test, y_pred))"
   ]
  },
  {
   "cell_type": "code",
   "execution_count": 50,
   "id": "4c643726",
   "metadata": {},
   "outputs": [
    {
     "name": "stdout",
     "output_type": "stream",
     "text": [
      "Logistic Regression Confusion Matrix:\n"
     ]
    },
    {
     "data": {
      "image/png": "[encoded data removed]",
      "text/plain": [
       "<Figure size 640x480 with 1 Axes>"
      ]
     },
     "metadata": {},
     "output_type": "display_data"
    }
   ],
   "source": [
    "# LogisticRegression Confusion Matrix\n",
    "print(\"Logistic Regression Confusion Matrix:\")\n",
    "plot_confusion_matrix(y_test, logreg_ovr.predict(X_test_final), title='Logistic Regression')"
   ]
  },
  {
   "cell_type": "markdown",
   "id": "eba04281",
   "metadata": {},
   "source": [
    "### Train and Evalaute a Multinomial Naive Bayes Model"
   ]
  },
  {
   "cell_type": "markdown",
   "id": "8ed30aec",
   "metadata": {},
   "source": [
    "Lastly I decided to include a Multinomial Naive Bayes Model because it is commonly known to be fast and effective for text classification tasks, especially when combined with TF-IDF features. Additonally a multinomial model can handle multi-variant classifications and the default hyper parameters tend to work well as is.\n",
    "\n",
    "As an added plus, Naive Bayes models are computationally efficinet and require less training data. This is particularly useful for me since my un-split training data only has a few records."
   ]
  },
  {
   "cell_type": "markdown",
   "id": "f85f55e9",
   "metadata": {},
   "source": [
    "*Model Training*"
   ]
  },
  {
   "cell_type": "code",
   "execution_count": 44,
   "id": "3216ae7f",
   "metadata": {},
   "outputs": [
    {
     "data": {
      "text/html": [
       "<style>#sk-container-id-3 {color: black;}#sk-container-id-3 pre{padding: 0;}#sk-container-id-3 div.sk-toggleable {background-color: white;}#sk-container-id-3 label.sk-toggleable__label {cursor: pointer;display: block;width: 100%;margin-bottom: 0;padding: 0.3em;box-sizing: border-box;text-align: center;}#sk-container-id-3 label.sk-toggleable__label-arrow:before {content: \"▸\";float: left;margin-right: 0.25em;color: #696969;}#sk-container-id-3 label.sk-toggleable__label-arrow:hover:before {color: black;}#sk-container-id-3 div.sk-estimator:hover label.sk-toggleable__label-arrow:before {color: black;}#sk-container-id-3 div.sk-toggleable__content {max-height: 0;max-width: 0;overflow: hidden;text-align: left;background-color: #f0f8ff;}#sk-container-id-3 div.sk-toggleable__content pre {margin: 0.2em;color: black;border-radius: 0.25em;background-color: #f0f8ff;}#sk-container-id-3 input.sk-toggleable__control:checked~div.sk-toggleable__content {max-height: 200px;max-width: 100%;overflow: auto;}#sk-container-id-3 input.sk-toggleable__control:checked~label.sk-toggleable__label-arrow:before {content: \"▾\";}#sk-container-id-3 div.sk-estimator input.sk-toggleable__control:checked~label.sk-toggleable__label {background-color: #d4ebff;}#sk-container-id-3 div.sk-label input.sk-toggleable__control:checked~label.sk-toggleable__label {background-color: #d4ebff;}#sk-container-id-3 input.sk-hidden--visually {border: 0;clip: rect(1px 1px 1px 1px);clip: rect(1px, 1px, 1px, 1px);height: 1px;margin: -1px;overflow: hidden;padding: 0;position: absolute;width: 1px;}#sk-container-id-3 div.sk-estimator {font-family: monospace;background-color: #f0f8ff;border: 1px dotted black;border-radius: 0.25em;box-sizing: border-box;margin-bottom: 0.5em;}#sk-container-id-3 div.sk-estimator:hover {background-color: #d4ebff;}#sk-container-id-3 div.sk-parallel-item::after {content: \"\";width: 100%;border-bottom: 1px solid gray;flex-grow: 1;}#sk-container-id-3 div.sk-label:hover label.sk-toggleable__label {background-color: #d4ebff;}#sk-container-id-3 div.sk-serial::before {content: \"\";position: absolute;border-left: 1px solid gray;box-sizing: border-box;top: 0;bottom: 0;left: 50%;z-index: 0;}#sk-container-id-3 div.sk-serial {display: flex;flex-direction: column;align-items: center;background-color: white;padding-right: 0.2em;padding-left: 0.2em;position: relative;}#sk-container-id-3 div.sk-item {position: relative;z-index: 1;}#sk-container-id-3 div.sk-parallel {display: flex;align-items: stretch;justify-content: center;background-color: white;position: relative;}#sk-container-id-3 div.sk-item::before, #sk-container-id-3 div.sk-parallel-item::before {content: \"\";position: absolute;border-left: 1px solid gray;box-sizing: border-box;top: 0;bottom: 0;left: 50%;z-index: -1;}#sk-container-id-3 div.sk-parallel-item {display: flex;flex-direction: column;z-index: 1;position: relative;background-color: white;}#sk-container-id-3 div.sk-parallel-item:first-child::after {align-self: flex-end;width: 50%;}#sk-container-id-3 div.sk-parallel-item:last-child::after {align-self: flex-start;width: 50%;}#sk-container-id-3 div.sk-parallel-item:only-child::after {width: 0;}#sk-container-id-3 div.sk-dashed-wrapped {border: 1px dashed gray;margin: 0 0.4em 0.5em 0.4em;box-sizing: border-box;padding-bottom: 0.4em;background-color: white;}#sk-container-id-3 div.sk-label label {font-family: monospace;font-weight: bold;display: inline-block;line-height: 1.2em;}#sk-container-id-3 div.sk-label-container {text-align: center;}#sk-container-id-3 div.sk-container {/* jupyter's `normalize.less` sets `[hidden] { display: none; }` but bootstrap.min.css set `[hidden] { display: none !important; }` so we also need the `!important` here to be able to override the default hidden behavior on the sphinx rendered scikit-learn.org. See: https://github.com/scikit-learn/scikit-learn/issues/21755 */display: inline-block !important;position: relative;}#sk-container-id-3 div.sk-text-repr-fallback {display: none;}</style><div id=\"sk-container-id-3\" class=\"sk-top-container\"><div class=\"sk-text-repr-fallback\"><pre>MultinomialNB()</pre><b>In a Jupyter environment, please rerun this cell to show the HTML representation or trust the notebook. <br />On GitHub, the HTML representation is unable to render, please try loading this page with nbviewer.org.</b></div><div class=\"sk-container\" hidden><div class=\"sk-item\"><div class=\"sk-estimator sk-toggleable\"><input class=\"sk-toggleable__control sk-hidden--visually\" id=\"sk-estimator-id-3\" type=\"checkbox\" checked><label for=\"sk-estimator-id-3\" class=\"sk-toggleable__label sk-toggleable__label-arrow\">MultinomialNB</label><div class=\"sk-toggleable__content\"><pre>MultinomialNB()</pre></div></div></div></div></div>"
      ],
      "text/plain": [
       "MultinomialNB()"
      ]
     },
     "execution_count": 44,
     "metadata": {},
     "output_type": "execute_result"
    }
   ],
   "source": [
    "from sklearn.naive_bayes import MultinomialNB\n",
    "\n",
    "# Initialize the Multinomial Naive Bayes model\n",
    "nb_model = MultinomialNB()\n",
    "\n",
    "# Train the model\n",
    "nb_model.fit(X_train_final, y_train)"
   ]
  },
  {
   "cell_type": "markdown",
   "id": "7e7e2fe7",
   "metadata": {},
   "source": [
    "*Model Evaluation*"
   ]
  },
  {
   "cell_type": "code",
   "execution_count": 45,
   "id": "e79bd97d",
   "metadata": {},
   "outputs": [
    {
     "name": "stdout",
     "output_type": "stream",
     "text": [
      "Naive Bayes Classification Report:\n",
      "              precision    recall  f1-score   support\n",
      "\n",
      "           1       0.85      1.00      0.92        34\n",
      "           2       1.00      0.33      0.50         3\n",
      "           3       0.85      0.85      0.85        13\n",
      "           4       1.00      0.43      0.60         7\n",
      "\n",
      "    accuracy                           0.86        57\n",
      "   macro avg       0.92      0.65      0.72        57\n",
      "weighted avg       0.88      0.86      0.84        57\n",
      "\n"
     ]
    }
   ],
   "source": [
    "# Make predictions on the test set\n",
    "y_pred_nb = nb_model.predict(X_test_final)\n",
    "\n",
    "# Print the classification report to evaluate the model\n",
    "print(\"Naive Bayes Classification Report:\")\n",
    "print(classification_report(y_test, y_pred_nb))"
   ]
  },
  {
   "cell_type": "code",
   "execution_count": 51,
   "id": "ee2548a7",
   "metadata": {},
   "outputs": [
    {
     "name": "stdout",
     "output_type": "stream",
     "text": [
      "Naive Bayes Classifier Confusion Matrix:\n"
     ]
    },
    {
     "data": {
      "image/png": "[encoded data removed]",
      "text/plain": [
       "<Figure size 640x480 with 1 Axes>"
      ]
     },
     "metadata": {},
     "output_type": "display_data"
    }
   ],
   "source": [
    "# MultinomialNB Confusion Matrix\n",
    "print(\"Naive Bayes Classifier Confusion Matrix:\")\n",
    "plot_confusion_matrix(y_test, nb_model.predict(X_test_final), title='Naive Bayes Classifier')"
   ]
  }
 ],
 "metadata": {
  "kernelspec": {
   "display_name": "Python 3 (ipykernel)",
   "language": "python",
   "name": "python3"
  },
  "language_info": {
   "codemirror_mode": {
    "name": "ipython",
    "version": 3
   },
   "file_extension": ".py",
   "mimetype": "text/x-python",
   "name": "python",
   "nbconvert_exporter": "python",
   "pygments_lexer": "ipython3",
   "version": "3.11.4"
  }
 },
 "nbformat": 4,
 "nbformat_minor": 5
}
