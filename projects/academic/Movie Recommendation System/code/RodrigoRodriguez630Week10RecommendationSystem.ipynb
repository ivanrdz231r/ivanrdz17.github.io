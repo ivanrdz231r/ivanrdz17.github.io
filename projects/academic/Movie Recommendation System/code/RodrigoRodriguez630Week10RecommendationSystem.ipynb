{
 "cells": [
  {
   "cell_type": "markdown",
   "id": "bfa049ad",
   "metadata": {
    "id": "bfa049ad"
   },
   "source": [
    "# Week 10 Recommendation Systems"
   ]
  },
  {
   "cell_type": "markdown",
   "id": "96c3ea89",
   "metadata": {
    "id": "96c3ea89"
   },
   "source": [
    "## 10.2 Exercise: Recommender System"
   ]
  },
  {
   "cell_type": "markdown",
   "id": "0af97293",
   "metadata": {
    "id": "0af97293"
   },
   "source": [
    "***Instructions)***"
   ]
  },
  {
   "cell_type": "markdown",
   "id": "67f07f49",
   "metadata": {
    "id": "67f07f49"
   },
   "source": [
    "Using the small MovieLens data set, create a recommender system that allows users to input a movie they like (in the data set) and recommends ten other movies for them to watch. In your write-up, clearly explain the recommender system process and all steps performed. If you are using a method found online, be sure to reference the source.\n",
    "\n",
    "You can use R or Python to complete this assignment. Submit your code and output to the submission link. Make sure to add comments to all of your code and to document your steps, process, and analysis."
   ]
  },
  {
   "cell_type": "markdown",
   "id": "87fec742",
   "metadata": {
    "id": "87fec742"
   },
   "source": [
    "***Answer)***"
   ]
  },
  {
   "cell_type": "markdown",
   "id": "2cebbd3c",
   "metadata": {
    "id": "2cebbd3c"
   },
   "source": [
    "**#0. Import the data**"
   ]
  },
  {
   "cell_type": "code",
   "execution_count": 2,
   "id": "e7829ecc",
   "metadata": {
    "id": "e7829ecc"
   },
   "outputs": [],
   "source": [
    "# Load necessary libraries\n",
    "import numpy as np\n",
    "import pandas as pd\n",
    "from scipy.sparse import csr_matrix\n",
    "from sklearn.neighbors import NearestNeighbors\n",
    "\n",
    "\n",
    "import matplotlib.pyplot as plt"
   ]
  },
  {
   "cell_type": "code",
   "execution_count": 3,
   "id": "8qisBXSMKTyx",
   "metadata": {
    "colab": {
     "base_uri": "https://localhost:8080/"
    },
    "id": "8qisBXSMKTyx",
    "outputId": "ad8bba72-f0d3-4fa5-f1e0-6711c45e0e61"
   },
   "outputs": [
    {
     "data": {
      "text/plain": [
       "(   movieId                               title  \\\n",
       " 0        1                    Toy Story (1995)   \n",
       " 1        2                      Jumanji (1995)   \n",
       " 2        3             Grumpier Old Men (1995)   \n",
       " 3        4            Waiting to Exhale (1995)   \n",
       " 4        5  Father of the Bride Part II (1995)   \n",
       " \n",
       "                                         genres  \n",
       " 0  Adventure|Animation|Children|Comedy|Fantasy  \n",
       " 1                   Adventure|Children|Fantasy  \n",
       " 2                               Comedy|Romance  \n",
       " 3                         Comedy|Drama|Romance  \n",
       " 4                                       Comedy  ,\n",
       "    userId  movieId  rating  timestamp\n",
       " 0       1        1     4.0  964982703\n",
       " 1       1        3     4.0  964981247\n",
       " 2       1        6     4.0  964982224\n",
       " 3       1       47     5.0  964983815\n",
       " 4       1       50     5.0  964982931)"
      ]
     },
     "execution_count": 3,
     "metadata": {},
     "output_type": "execute_result"
    }
   ],
   "source": [
    "# reading the data\n",
    "movies_df = pd.read_csv('C:/Users/ivan2/gitLocal/DSC630-SPRING2024/WK10-movies.csv')\n",
    "ratings_df = pd.read_csv('C:/Users/ivan2/gitLocal/DSC630-SPRING2024/WK10-ratings.csv')\n",
    "\n",
    "movies_df.head(), ratings_df.head()"
   ]
  },
  {
   "cell_type": "code",
   "execution_count": 4,
   "id": "51299ab1",
   "metadata": {
    "colab": {
     "base_uri": "https://localhost:8080/"
    },
    "id": "51299ab1",
    "outputId": "a2e68805-6716-4673-bb5f-920bf440911e"
   },
   "outputs": [
    {
     "data": {
      "text/plain": [
       "((9742, 3), (100836, 4))"
      ]
     },
     "execution_count": 4,
     "metadata": {},
     "output_type": "execute_result"
    }
   ],
   "source": [
    "movies_df.shape, ratings_df.shape"
   ]
  },
  {
   "cell_type": "markdown",
   "id": "8100cc0b",
   "metadata": {},
   "source": [
    "**1. Building the Recommendation System**"
   ]
  },
  {
   "cell_type": "markdown",
   "id": "007640f4",
   "metadata": {},
   "source": [
    "One of the simplest yet effective methods: item-based collaborative filtering. This approach leverages the similarities between movies based on user ratings to make recommendations."
   ]
  },
  {
   "cell_type": "markdown",
   "id": "2142ef1a",
   "metadata": {},
   "source": [
    "We will only focus on the movies.csv and ratings.csv files. Mainly because the movies.csv files has the metadata for each movie which is used as a mapping file with 'movieID' to the raitings.csv file.\n",
    "\n",
    "The ratings are the core data for the collaborative filtering approach. By analyzing how users rate different movies, we can compute similarities between movies based on user preferences. The userId and movieId help map which user rated which movie, and the rating provides the value that influences the similarity calculations.\n",
    "\n",
    "tags.csv\n",
    "- For pure item-based collaborative filtering based solely on rating patterns, tags are not required.\n",
    "\n",
    "links.csv\n",
    "- Does not contribute to the internal calculation of movie similarities based on ratings within the MovieLens dataset."
   ]
  },
  {
   "cell_type": "markdown",
   "id": "1eefd8d6",
   "metadata": {},
   "source": [
    "***Next Steps***"
   ]
  },
  {
   "cell_type": "markdown",
   "id": "e40e0b42",
   "metadata": {},
   "source": [
    "By transforming the ratings data into this matrix, we can easily compute similarities between movies based on their ratings across multiple users."
   ]
  },
  {
   "cell_type": "code",
   "execution_count": 5,
   "id": "4fc0518b",
   "metadata": {},
   "outputs": [],
   "source": [
    "# Creating the user-movie ratings matrix\n",
    "ratings_pivot = ratings_df.pivot_table(index='movieId', columns='userId', values='rating').fillna(0)"
   ]
  },
  {
   "cell_type": "markdown",
   "id": "54d00c0f",
   "metadata": {},
   "source": [
    "Wser-movie ratings are typically sparse, meaning most users have not rated most movies. A sparse matrix format like CSR (Compressed Sparse Row) is designed to store only the non-zero elements, which significantly reduces memory usage."
   ]
  },
  {
   "cell_type": "code",
   "execution_count": null,
   "id": "4683154a",
   "metadata": {},
   "outputs": [],
   "source": [
    "# Converting the pivot table to a sparse matrix\n",
    "ratings_matrix = csr_matrix(ratings_pivot.values)"
   ]
  },
  {
   "cell_type": "markdown",
   "id": "01ee8374",
   "metadata": {},
   "source": [
    "Now we initiate and fit the model."
   ]
  },
  {
   "cell_type": "code",
   "execution_count": 6,
   "id": "e3064859",
   "metadata": {},
   "outputs": [
    {
     "data": {
      "text/html": [
       "<style>#sk-container-id-1 {color: black;}#sk-container-id-1 pre{padding: 0;}#sk-container-id-1 div.sk-toggleable {background-color: white;}#sk-container-id-1 label.sk-toggleable__label {cursor: pointer;display: block;width: 100%;margin-bottom: 0;padding: 0.3em;box-sizing: border-box;text-align: center;}#sk-container-id-1 label.sk-toggleable__label-arrow:before {content: \"▸\";float: left;margin-right: 0.25em;color: #696969;}#sk-container-id-1 label.sk-toggleable__label-arrow:hover:before {color: black;}#sk-container-id-1 div.sk-estimator:hover label.sk-toggleable__label-arrow:before {color: black;}#sk-container-id-1 div.sk-toggleable__content {max-height: 0;max-width: 0;overflow: hidden;text-align: left;background-color: #f0f8ff;}#sk-container-id-1 div.sk-toggleable__content pre {margin: 0.2em;color: black;border-radius: 0.25em;background-color: #f0f8ff;}#sk-container-id-1 input.sk-toggleable__control:checked~div.sk-toggleable__content {max-height: 200px;max-width: 100%;overflow: auto;}#sk-container-id-1 input.sk-toggleable__control:checked~label.sk-toggleable__label-arrow:before {content: \"▾\";}#sk-container-id-1 div.sk-estimator input.sk-toggleable__control:checked~label.sk-toggleable__label {background-color: #d4ebff;}#sk-container-id-1 div.sk-label input.sk-toggleable__control:checked~label.sk-toggleable__label {background-color: #d4ebff;}#sk-container-id-1 input.sk-hidden--visually {border: 0;clip: rect(1px 1px 1px 1px);clip: rect(1px, 1px, 1px, 1px);height: 1px;margin: -1px;overflow: hidden;padding: 0;position: absolute;width: 1px;}#sk-container-id-1 div.sk-estimator {font-family: monospace;background-color: #f0f8ff;border: 1px dotted black;border-radius: 0.25em;box-sizing: border-box;margin-bottom: 0.5em;}#sk-container-id-1 div.sk-estimator:hover {background-color: #d4ebff;}#sk-container-id-1 div.sk-parallel-item::after {content: \"\";width: 100%;border-bottom: 1px solid gray;flex-grow: 1;}#sk-container-id-1 div.sk-label:hover label.sk-toggleable__label {background-color: #d4ebff;}#sk-container-id-1 div.sk-serial::before {content: \"\";position: absolute;border-left: 1px solid gray;box-sizing: border-box;top: 0;bottom: 0;left: 50%;z-index: 0;}#sk-container-id-1 div.sk-serial {display: flex;flex-direction: column;align-items: center;background-color: white;padding-right: 0.2em;padding-left: 0.2em;position: relative;}#sk-container-id-1 div.sk-item {position: relative;z-index: 1;}#sk-container-id-1 div.sk-parallel {display: flex;align-items: stretch;justify-content: center;background-color: white;position: relative;}#sk-container-id-1 div.sk-item::before, #sk-container-id-1 div.sk-parallel-item::before {content: \"\";position: absolute;border-left: 1px solid gray;box-sizing: border-box;top: 0;bottom: 0;left: 50%;z-index: -1;}#sk-container-id-1 div.sk-parallel-item {display: flex;flex-direction: column;z-index: 1;position: relative;background-color: white;}#sk-container-id-1 div.sk-parallel-item:first-child::after {align-self: flex-end;width: 50%;}#sk-container-id-1 div.sk-parallel-item:last-child::after {align-self: flex-start;width: 50%;}#sk-container-id-1 div.sk-parallel-item:only-child::after {width: 0;}#sk-container-id-1 div.sk-dashed-wrapped {border: 1px dashed gray;margin: 0 0.4em 0.5em 0.4em;box-sizing: border-box;padding-bottom: 0.4em;background-color: white;}#sk-container-id-1 div.sk-label label {font-family: monospace;font-weight: bold;display: inline-block;line-height: 1.2em;}#sk-container-id-1 div.sk-label-container {text-align: center;}#sk-container-id-1 div.sk-container {/* jupyter's `normalize.less` sets `[hidden] { display: none; }` but bootstrap.min.css set `[hidden] { display: none !important; }` so we also need the `!important` here to be able to override the default hidden behavior on the sphinx rendered scikit-learn.org. See: https://github.com/scikit-learn/scikit-learn/issues/21755 */display: inline-block !important;position: relative;}#sk-container-id-1 div.sk-text-repr-fallback {display: none;}</style><div id=\"sk-container-id-1\" class=\"sk-top-container\"><div class=\"sk-text-repr-fallback\"><pre>NearestNeighbors(algorithm=&#x27;brute&#x27;, metric=&#x27;cosine&#x27;, n_jobs=-1, n_neighbors=11)</pre><b>In a Jupyter environment, please rerun this cell to show the HTML representation or trust the notebook. <br />On GitHub, the HTML representation is unable to render, please try loading this page with nbviewer.org.</b></div><div class=\"sk-container\" hidden><div class=\"sk-item\"><div class=\"sk-estimator sk-toggleable\"><input class=\"sk-toggleable__control sk-hidden--visually\" id=\"sk-estimator-id-1\" type=\"checkbox\" checked><label for=\"sk-estimator-id-1\" class=\"sk-toggleable__label sk-toggleable__label-arrow\">NearestNeighbors</label><div class=\"sk-toggleable__content\"><pre>NearestNeighbors(algorithm=&#x27;brute&#x27;, metric=&#x27;cosine&#x27;, n_jobs=-1, n_neighbors=11)</pre></div></div></div></div></div>"
      ],
      "text/plain": [
       "NearestNeighbors(algorithm='brute', metric='cosine', n_jobs=-1, n_neighbors=11)"
      ]
     },
     "execution_count": 6,
     "metadata": {},
     "output_type": "execute_result"
    }
   ],
   "source": [
    "# Instantiate the model using cosine similarity\n",
    "model_knn = NearestNeighbors(metric='cosine', algorithm='brute', n_neighbors=11, n_jobs=-1)\n",
    "\n",
    "# Fit the model\n",
    "model_knn.fit(ratings_matrix)"
   ]
  },
  {
   "cell_type": "markdown",
   "id": "ca76af28",
   "metadata": {},
   "source": [
    "With the model ready now I set up a variable that is used to search a movie title, and a data frame that displays any movies that contains the respective title."
   ]
  },
  {
   "cell_type": "code",
   "execution_count": 7,
   "id": "77c623f7",
   "metadata": {},
   "outputs": [
    {
     "data": {
      "text/html": [
       "<div>\n",
       "<style scoped>\n",
       "    .dataframe tbody tr th:only-of-type {\n",
       "        vertical-align: middle;\n",
       "    }\n",
       "\n",
       "    .dataframe tbody tr th {\n",
       "        vertical-align: top;\n",
       "    }\n",
       "\n",
       "    .dataframe thead th {\n",
       "        text-align: right;\n",
       "    }\n",
       "</style>\n",
       "<table border=\"1\" class=\"dataframe\">\n",
       "  <thead>\n",
       "    <tr style=\"text-align: right;\">\n",
       "      <th></th>\n",
       "      <th>movieId</th>\n",
       "      <th>title</th>\n",
       "      <th>genres</th>\n",
       "    </tr>\n",
       "  </thead>\n",
       "  <tbody>\n",
       "    <tr>\n",
       "      <th>4427</th>\n",
       "      <td>6539</td>\n",
       "      <td>Pirates of the Caribbean: The Curse of the Bla...</td>\n",
       "      <td>Action|Adventure|Comedy|Fantasy</td>\n",
       "    </tr>\n",
       "    <tr>\n",
       "      <th>6221</th>\n",
       "      <td>45722</td>\n",
       "      <td>Pirates of the Caribbean: Dead Man's Chest (2006)</td>\n",
       "      <td>Action|Adventure|Fantasy</td>\n",
       "    </tr>\n",
       "    <tr>\n",
       "      <th>6488</th>\n",
       "      <td>53125</td>\n",
       "      <td>Pirates of the Caribbean: At World's End (2007)</td>\n",
       "      <td>Action|Adventure|Comedy|Fantasy</td>\n",
       "    </tr>\n",
       "    <tr>\n",
       "      <th>7608</th>\n",
       "      <td>86880</td>\n",
       "      <td>Pirates of the Caribbean: On Stranger Tides (2...</td>\n",
       "      <td>Action|Adventure|Fantasy|IMAX</td>\n",
       "    </tr>\n",
       "    <tr>\n",
       "      <th>8687</th>\n",
       "      <td>122896</td>\n",
       "      <td>Pirates of the Caribbean: Dead Men Tell No Tal...</td>\n",
       "      <td>(no genres listed)</td>\n",
       "    </tr>\n",
       "  </tbody>\n",
       "</table>\n",
       "</div>"
      ],
      "text/plain": [
       "      movieId                                              title  \\\n",
       "4427     6539  Pirates of the Caribbean: The Curse of the Bla...   \n",
       "6221    45722  Pirates of the Caribbean: Dead Man's Chest (2006)   \n",
       "6488    53125    Pirates of the Caribbean: At World's End (2007)   \n",
       "7608    86880  Pirates of the Caribbean: On Stranger Tides (2...   \n",
       "8687   122896  Pirates of the Caribbean: Dead Men Tell No Tal...   \n",
       "\n",
       "                               genres  \n",
       "4427  Action|Adventure|Comedy|Fantasy  \n",
       "6221         Action|Adventure|Fantasy  \n",
       "6488  Action|Adventure|Comedy|Fantasy  \n",
       "7608    Action|Adventure|Fantasy|IMAX  \n",
       "8687               (no genres listed)  "
      ]
     },
     "execution_count": 7,
     "metadata": {},
     "output_type": "execute_result"
    }
   ],
   "source": [
    "# variable that houses the movie to search for recommendations\n",
    "movie_to_search = \"Pirates of the Caribbean\"\n",
    "\n",
    "# find any movie title containing the title entered in 'movie_to_search' variable\n",
    "movies_df[movies_df['title'].str.contains(movie_to_search, case=False, na=False)]"
   ]
  },
  {
   "cell_type": "markdown",
   "id": "5c2bc2ba",
   "metadata": {},
   "source": [
    "Using the ID of the title searched using the dataframe above, we can plug the movieID of our choosing into the 'movie_id' varible.\n",
    "Next we execute the following steps\n",
    "- Use the k-NN model to find the 10 nearest neighbor movies based on user ratings for the specified movieId.\n",
    "- Extract the movieId values of these nearest neighbor movies, excluding the input movie itself.\n",
    "- Retrieve the titles and genres of the recommended movies from the movies_df DataFrame."
   ]
  },
  {
   "cell_type": "code",
   "execution_count": 8,
   "id": "7bcc1b73",
   "metadata": {},
   "outputs": [
    {
     "data": {
      "text/html": [
       "<div>\n",
       "<style scoped>\n",
       "    .dataframe tbody tr th:only-of-type {\n",
       "        vertical-align: middle;\n",
       "    }\n",
       "\n",
       "    .dataframe tbody tr th {\n",
       "        vertical-align: top;\n",
       "    }\n",
       "\n",
       "    .dataframe thead th {\n",
       "        text-align: right;\n",
       "    }\n",
       "</style>\n",
       "<table border=\"1\" class=\"dataframe\">\n",
       "  <thead>\n",
       "    <tr style=\"text-align: right;\">\n",
       "      <th></th>\n",
       "      <th>movieId</th>\n",
       "      <th>title</th>\n",
       "      <th>genres</th>\n",
       "    </tr>\n",
       "  </thead>\n",
       "  <tbody>\n",
       "    <tr>\n",
       "      <th>3194</th>\n",
       "      <td>4306</td>\n",
       "      <td>Shrek (2001)</td>\n",
       "      <td>Adventure|Animation|Children|Comedy|Fantasy|Ro...</td>\n",
       "    </tr>\n",
       "    <tr>\n",
       "      <th>3614</th>\n",
       "      <td>4963</td>\n",
       "      <td>Ocean's Eleven (2001)</td>\n",
       "      <td>Crime|Thriller</td>\n",
       "    </tr>\n",
       "    <tr>\n",
       "      <th>3638</th>\n",
       "      <td>4993</td>\n",
       "      <td>Lord of the Rings: The Fellowship of the Ring,...</td>\n",
       "      <td>Adventure|Fantasy</td>\n",
       "    </tr>\n",
       "    <tr>\n",
       "      <th>4137</th>\n",
       "      <td>5952</td>\n",
       "      <td>Lord of the Rings: The Two Towers, The (2002)</td>\n",
       "      <td>Adventure|Fantasy</td>\n",
       "    </tr>\n",
       "    <tr>\n",
       "      <th>4360</th>\n",
       "      <td>6377</td>\n",
       "      <td>Finding Nemo (2003)</td>\n",
       "      <td>Adventure|Animation|Children|Comedy</td>\n",
       "    </tr>\n",
       "    <tr>\n",
       "      <th>4615</th>\n",
       "      <td>6874</td>\n",
       "      <td>Kill Bill: Vol. 1 (2003)</td>\n",
       "      <td>Action|Crime|Thriller</td>\n",
       "    </tr>\n",
       "    <tr>\n",
       "      <th>4800</th>\n",
       "      <td>7153</td>\n",
       "      <td>Lord of the Rings: The Return of the King, The...</td>\n",
       "      <td>Action|Adventure|Drama|Fantasy</td>\n",
       "    </tr>\n",
       "    <tr>\n",
       "      <th>5374</th>\n",
       "      <td>8961</td>\n",
       "      <td>Incredibles, The (2004)</td>\n",
       "      <td>Action|Adventure|Animation|Children|Comedy</td>\n",
       "    </tr>\n",
       "    <tr>\n",
       "      <th>5917</th>\n",
       "      <td>33794</td>\n",
       "      <td>Batman Begins (2005)</td>\n",
       "      <td>Action|Crime|IMAX</td>\n",
       "    </tr>\n",
       "    <tr>\n",
       "      <th>6221</th>\n",
       "      <td>45722</td>\n",
       "      <td>Pirates of the Caribbean: Dead Man's Chest (2006)</td>\n",
       "      <td>Action|Adventure|Fantasy</td>\n",
       "    </tr>\n",
       "  </tbody>\n",
       "</table>\n",
       "</div>"
      ],
      "text/plain": [
       "      movieId                                              title  \\\n",
       "3194     4306                                       Shrek (2001)   \n",
       "3614     4963                              Ocean's Eleven (2001)   \n",
       "3638     4993  Lord of the Rings: The Fellowship of the Ring,...   \n",
       "4137     5952      Lord of the Rings: The Two Towers, The (2002)   \n",
       "4360     6377                                Finding Nemo (2003)   \n",
       "4615     6874                           Kill Bill: Vol. 1 (2003)   \n",
       "4800     7153  Lord of the Rings: The Return of the King, The...   \n",
       "5374     8961                            Incredibles, The (2004)   \n",
       "5917    33794                               Batman Begins (2005)   \n",
       "6221    45722  Pirates of the Caribbean: Dead Man's Chest (2006)   \n",
       "\n",
       "                                                 genres  \n",
       "3194  Adventure|Animation|Children|Comedy|Fantasy|Ro...  \n",
       "3614                                     Crime|Thriller  \n",
       "3638                                  Adventure|Fantasy  \n",
       "4137                                  Adventure|Fantasy  \n",
       "4360                Adventure|Animation|Children|Comedy  \n",
       "4615                              Action|Crime|Thriller  \n",
       "4800                     Action|Adventure|Drama|Fantasy  \n",
       "5374         Action|Adventure|Animation|Children|Comedy  \n",
       "5917                                  Action|Crime|IMAX  \n",
       "6221                           Action|Adventure|Fantasy  "
      ]
     },
     "execution_count": 8,
     "metadata": {},
     "output_type": "execute_result"
    }
   ],
   "source": [
    "# Get the recommendations using the correct movieId from the 'movie_to_search' variable\n",
    "movie_id = 6539\n",
    "distances, indices = model_knn.kneighbors(ratings_pivot.loc[movie_id, :].values.reshape(1, -1), n_neighbors=11)\n",
    "\n",
    "# Extract movie titles from the indices\n",
    "recommended_movie_ids = [ratings_pivot.index[i] for i in indices.flatten()][1:]  # exclude the first one as it is the input movie itself\n",
    "recommended_movies = movies_df[movies_df['movieId'].isin(recommended_movie_ids)]\n",
    "recommended_movies"
   ]
  },
  {
   "cell_type": "markdown",
   "id": "0c8beaec",
   "metadata": {},
   "source": [
    "**Sources**\n",
    "\n",
    "Qutbuddin, M. (2020, March 7). *Comprehensive Guide on Item Based Collaborative Filtering.* Towardsdatascience.com. Retrieved May 18, 2024, from https://towardsdatascience.com/comprehensive-guide-on-item-based-recommendation-systems-d67e40e2b75d#:~:text=Item%2Ditem%20collaborative%20filtering%20is,great%20role%20in%20Amazon's%20success.\n",
    "\n",
    "S. (2023, August 11). *Item-based Collaborative Filtering : Build Your own Recommender System!* Analytics Vidhya. Retrieved May 18, 2024, from https://www.analyticsvidhya.com/blog/2021/05/item-based-collaborative-filtering-build-your-own-recommender-system/"
   ]
  }
 ],
 "metadata": {
  "colab": {
   "provenance": []
  },
  "kernelspec": {
   "display_name": "Python 3 (ipykernel)",
   "language": "python",
   "name": "python3"
  },
  "language_info": {
   "codemirror_mode": {
    "name": "ipython",
    "version": 3
   },
   "file_extension": ".py",
   "mimetype": "text/x-python",
   "name": "python",
   "nbconvert_exporter": "python",
   "pygments_lexer": "ipython3",
   "version": "3.11.4"
  }
 },
 "nbformat": 4,
 "nbformat_minor": 5
}
